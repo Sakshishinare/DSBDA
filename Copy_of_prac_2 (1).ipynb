{
 "cells": [
  {
   "cell_type": "code",
   "execution_count": 1,
   "metadata": {
    "id": "wGrzTPhl7qDt"
   },
   "outputs": [],
   "source": [
    "import pandas as pd"
   ]
  },
  {
   "cell_type": "code",
   "execution_count": 2,
   "metadata": {
    "id": "1MsVmtlA72nl"
   },
   "outputs": [],
   "source": [
    "df=pd.read_csv('C:/Users/pcoec/Downloads/Untitled spreadsheet - Sheet1 (1).csv')"
   ]
  },
  {
   "cell_type": "code",
   "execution_count": 3,
   "metadata": {
    "id": "LJ41i1IE8DGD"
   },
   "outputs": [],
   "source": [
    "df1=df\n",
    "df2=df1\n",
    "df3=df\n",
    "df4=df"
   ]
  },
  {
   "cell_type": "code",
   "execution_count": 4,
   "metadata": {
    "colab": {
     "base_uri": "https://localhost:8080/",
     "height": 488
    },
    "id": "Amh_ZBJS8FxS",
    "outputId": "16700cc6-28a8-4052-8059-10b9e22da993"
   },
   "outputs": [
    {
     "data": {
      "text/html": [
       "<div>\n",
       "<style scoped>\n",
       "    .dataframe tbody tr th:only-of-type {\n",
       "        vertical-align: middle;\n",
       "    }\n",
       "\n",
       "    .dataframe tbody tr th {\n",
       "        vertical-align: top;\n",
       "    }\n",
       "\n",
       "    .dataframe thead th {\n",
       "        text-align: right;\n",
       "    }\n",
       "</style>\n",
       "<table border=\"1\" class=\"dataframe\">\n",
       "  <thead>\n",
       "    <tr style=\"text-align: right;\">\n",
       "      <th></th>\n",
       "      <th>math score</th>\n",
       "      <th>reading score</th>\n",
       "      <th>writing score</th>\n",
       "      <th>placement score</th>\n",
       "      <th>club join year</th>\n",
       "      <th>placement offer count</th>\n",
       "      <th>gender</th>\n",
       "    </tr>\n",
       "  </thead>\n",
       "  <tbody>\n",
       "    <tr>\n",
       "      <th>0</th>\n",
       "      <td>79</td>\n",
       "      <td>66</td>\n",
       "      <td>63</td>\n",
       "      <td>72</td>\n",
       "      <td>2018</td>\n",
       "      <td>1</td>\n",
       "      <td>female</td>\n",
       "    </tr>\n",
       "    <tr>\n",
       "      <th>1</th>\n",
       "      <td>61</td>\n",
       "      <td>60</td>\n",
       "      <td>75</td>\n",
       "      <td>75</td>\n",
       "      <td>2022</td>\n",
       "      <td>2</td>\n",
       "      <td>female</td>\n",
       "    </tr>\n",
       "    <tr>\n",
       "      <th>2</th>\n",
       "      <td>76</td>\n",
       "      <td>75</td>\n",
       "      <td>62</td>\n",
       "      <td>69</td>\n",
       "      <td>2020</td>\n",
       "      <td>1</td>\n",
       "      <td>female</td>\n",
       "    </tr>\n",
       "    <tr>\n",
       "      <th>3</th>\n",
       "      <td>73</td>\n",
       "      <td>63</td>\n",
       "      <td>79</td>\n",
       "      <td>64</td>\n",
       "      <td>2019</td>\n",
       "      <td>1</td>\n",
       "      <td>male</td>\n",
       "    </tr>\n",
       "    <tr>\n",
       "      <th>4</th>\n",
       "      <td>61</td>\n",
       "      <td>78</td>\n",
       "      <td>69</td>\n",
       "      <td>66</td>\n",
       "      <td>2022</td>\n",
       "      <td>1</td>\n",
       "      <td>male</td>\n",
       "    </tr>\n",
       "    <tr>\n",
       "      <th>5</th>\n",
       "      <td>62</td>\n",
       "      <td>77</td>\n",
       "      <td>72</td>\n",
       "      <td>73</td>\n",
       "      <td>2019</td>\n",
       "      <td>1</td>\n",
       "      <td>female</td>\n",
       "    </tr>\n",
       "    <tr>\n",
       "      <th>6</th>\n",
       "      <td>80</td>\n",
       "      <td>60</td>\n",
       "      <td>79</td>\n",
       "      <td>72</td>\n",
       "      <td>2020</td>\n",
       "      <td>1</td>\n",
       "      <td>male</td>\n",
       "    </tr>\n",
       "    <tr>\n",
       "      <th>7</th>\n",
       "      <td>68</td>\n",
       "      <td>60</td>\n",
       "      <td>77</td>\n",
       "      <td>72</td>\n",
       "      <td>2020</td>\n",
       "      <td>1</td>\n",
       "      <td>male</td>\n",
       "    </tr>\n",
       "    <tr>\n",
       "      <th>8</th>\n",
       "      <td>70</td>\n",
       "      <td>73</td>\n",
       "      <td>77</td>\n",
       "      <td>66</td>\n",
       "      <td>2022</td>\n",
       "      <td>1</td>\n",
       "      <td>male</td>\n",
       "    </tr>\n",
       "    <tr>\n",
       "      <th>9</th>\n",
       "      <td>63</td>\n",
       "      <td>66</td>\n",
       "      <td>73</td>\n",
       "      <td>68</td>\n",
       "      <td>2024</td>\n",
       "      <td>1</td>\n",
       "      <td>female</td>\n",
       "    </tr>\n",
       "    <tr>\n",
       "      <th>10</th>\n",
       "      <td>66</td>\n",
       "      <td>71</td>\n",
       "      <td>75</td>\n",
       "      <td>80</td>\n",
       "      <td>2022</td>\n",
       "      <td>2</td>\n",
       "      <td>female</td>\n",
       "    </tr>\n",
       "    <tr>\n",
       "      <th>11</th>\n",
       "      <td>62</td>\n",
       "      <td>74</td>\n",
       "      <td>79</td>\n",
       "      <td>64</td>\n",
       "      <td>2024</td>\n",
       "      <td>1</td>\n",
       "      <td>male</td>\n",
       "    </tr>\n",
       "    <tr>\n",
       "      <th>12</th>\n",
       "      <td>79</td>\n",
       "      <td>69</td>\n",
       "      <td>73</td>\n",
       "      <td>79</td>\n",
       "      <td>2019</td>\n",
       "      <td>2</td>\n",
       "      <td>male</td>\n",
       "    </tr>\n",
       "    <tr>\n",
       "      <th>13</th>\n",
       "      <td>65</td>\n",
       "      <td>61</td>\n",
       "      <td>64</td>\n",
       "      <td>62</td>\n",
       "      <td>2022</td>\n",
       "      <td>1</td>\n",
       "      <td>male</td>\n",
       "    </tr>\n",
       "  </tbody>\n",
       "</table>\n",
       "</div>"
      ],
      "text/plain": [
       "    math score  reading score   writing score  placement score  \\\n",
       "0           79              66             63               72   \n",
       "1           61              60             75               75   \n",
       "2           76              75             62               69   \n",
       "3           73              63             79               64   \n",
       "4           61              78             69               66   \n",
       "5           62              77             72               73   \n",
       "6           80              60             79               72   \n",
       "7           68              60             77               72   \n",
       "8           70              73             77               66   \n",
       "9           63              66             73               68   \n",
       "10          66              71             75               80   \n",
       "11          62              74             79               64   \n",
       "12          79              69             73               79   \n",
       "13          65              61             64               62   \n",
       "\n",
       "    club join year  placement offer count  gender  \n",
       "0             2018                      1  female  \n",
       "1             2022                      2  female  \n",
       "2             2020                      1  female  \n",
       "3             2019                      1    male  \n",
       "4             2022                      1    male  \n",
       "5             2019                      1  female  \n",
       "6             2020                      1    male  \n",
       "7             2020                      1    male  \n",
       "8             2022                      1    male  \n",
       "9             2024                      1  female  \n",
       "10            2022                      2  female  \n",
       "11            2024                      1    male  \n",
       "12            2019                      2    male  \n",
       "13            2022                      1    male  "
      ]
     },
     "execution_count": 4,
     "metadata": {},
     "output_type": "execute_result"
    }
   ],
   "source": [
    "df"
   ]
  },
  {
   "cell_type": "code",
   "execution_count": 5,
   "metadata": {
    "colab": {
     "base_uri": "https://localhost:8080/",
     "height": 488
    },
    "id": "DFb_iKsv8Hhj",
    "outputId": "85f12331-0f7a-412f-b6c9-fdfcba643767"
   },
   "outputs": [
    {
     "data": {
      "text/html": [
       "<div>\n",
       "<style scoped>\n",
       "    .dataframe tbody tr th:only-of-type {\n",
       "        vertical-align: middle;\n",
       "    }\n",
       "\n",
       "    .dataframe tbody tr th {\n",
       "        vertical-align: top;\n",
       "    }\n",
       "\n",
       "    .dataframe thead th {\n",
       "        text-align: right;\n",
       "    }\n",
       "</style>\n",
       "<table border=\"1\" class=\"dataframe\">\n",
       "  <thead>\n",
       "    <tr style=\"text-align: right;\">\n",
       "      <th></th>\n",
       "      <th>math score</th>\n",
       "      <th>reading score</th>\n",
       "      <th>writing score</th>\n",
       "      <th>placement score</th>\n",
       "      <th>club join year</th>\n",
       "      <th>placement offer count</th>\n",
       "      <th>gender</th>\n",
       "    </tr>\n",
       "  </thead>\n",
       "  <tbody>\n",
       "    <tr>\n",
       "      <th>0</th>\n",
       "      <td>False</td>\n",
       "      <td>False</td>\n",
       "      <td>False</td>\n",
       "      <td>False</td>\n",
       "      <td>False</td>\n",
       "      <td>False</td>\n",
       "      <td>False</td>\n",
       "    </tr>\n",
       "    <tr>\n",
       "      <th>1</th>\n",
       "      <td>False</td>\n",
       "      <td>False</td>\n",
       "      <td>False</td>\n",
       "      <td>False</td>\n",
       "      <td>False</td>\n",
       "      <td>False</td>\n",
       "      <td>False</td>\n",
       "    </tr>\n",
       "    <tr>\n",
       "      <th>2</th>\n",
       "      <td>False</td>\n",
       "      <td>False</td>\n",
       "      <td>False</td>\n",
       "      <td>False</td>\n",
       "      <td>False</td>\n",
       "      <td>False</td>\n",
       "      <td>False</td>\n",
       "    </tr>\n",
       "    <tr>\n",
       "      <th>3</th>\n",
       "      <td>False</td>\n",
       "      <td>False</td>\n",
       "      <td>False</td>\n",
       "      <td>False</td>\n",
       "      <td>False</td>\n",
       "      <td>False</td>\n",
       "      <td>False</td>\n",
       "    </tr>\n",
       "    <tr>\n",
       "      <th>4</th>\n",
       "      <td>False</td>\n",
       "      <td>False</td>\n",
       "      <td>False</td>\n",
       "      <td>False</td>\n",
       "      <td>False</td>\n",
       "      <td>False</td>\n",
       "      <td>False</td>\n",
       "    </tr>\n",
       "    <tr>\n",
       "      <th>5</th>\n",
       "      <td>False</td>\n",
       "      <td>False</td>\n",
       "      <td>False</td>\n",
       "      <td>False</td>\n",
       "      <td>False</td>\n",
       "      <td>False</td>\n",
       "      <td>False</td>\n",
       "    </tr>\n",
       "    <tr>\n",
       "      <th>6</th>\n",
       "      <td>False</td>\n",
       "      <td>False</td>\n",
       "      <td>False</td>\n",
       "      <td>False</td>\n",
       "      <td>False</td>\n",
       "      <td>False</td>\n",
       "      <td>False</td>\n",
       "    </tr>\n",
       "    <tr>\n",
       "      <th>7</th>\n",
       "      <td>False</td>\n",
       "      <td>False</td>\n",
       "      <td>False</td>\n",
       "      <td>False</td>\n",
       "      <td>False</td>\n",
       "      <td>False</td>\n",
       "      <td>False</td>\n",
       "    </tr>\n",
       "    <tr>\n",
       "      <th>8</th>\n",
       "      <td>False</td>\n",
       "      <td>False</td>\n",
       "      <td>False</td>\n",
       "      <td>False</td>\n",
       "      <td>False</td>\n",
       "      <td>False</td>\n",
       "      <td>False</td>\n",
       "    </tr>\n",
       "    <tr>\n",
       "      <th>9</th>\n",
       "      <td>False</td>\n",
       "      <td>False</td>\n",
       "      <td>False</td>\n",
       "      <td>False</td>\n",
       "      <td>False</td>\n",
       "      <td>False</td>\n",
       "      <td>False</td>\n",
       "    </tr>\n",
       "    <tr>\n",
       "      <th>10</th>\n",
       "      <td>False</td>\n",
       "      <td>False</td>\n",
       "      <td>False</td>\n",
       "      <td>False</td>\n",
       "      <td>False</td>\n",
       "      <td>False</td>\n",
       "      <td>False</td>\n",
       "    </tr>\n",
       "    <tr>\n",
       "      <th>11</th>\n",
       "      <td>False</td>\n",
       "      <td>False</td>\n",
       "      <td>False</td>\n",
       "      <td>False</td>\n",
       "      <td>False</td>\n",
       "      <td>False</td>\n",
       "      <td>False</td>\n",
       "    </tr>\n",
       "    <tr>\n",
       "      <th>12</th>\n",
       "      <td>False</td>\n",
       "      <td>False</td>\n",
       "      <td>False</td>\n",
       "      <td>False</td>\n",
       "      <td>False</td>\n",
       "      <td>False</td>\n",
       "      <td>False</td>\n",
       "    </tr>\n",
       "    <tr>\n",
       "      <th>13</th>\n",
       "      <td>False</td>\n",
       "      <td>False</td>\n",
       "      <td>False</td>\n",
       "      <td>False</td>\n",
       "      <td>False</td>\n",
       "      <td>False</td>\n",
       "      <td>False</td>\n",
       "    </tr>\n",
       "  </tbody>\n",
       "</table>\n",
       "</div>"
      ],
      "text/plain": [
       "    math score  reading score   writing score  placement score  \\\n",
       "0        False           False          False            False   \n",
       "1        False           False          False            False   \n",
       "2        False           False          False            False   \n",
       "3        False           False          False            False   \n",
       "4        False           False          False            False   \n",
       "5        False           False          False            False   \n",
       "6        False           False          False            False   \n",
       "7        False           False          False            False   \n",
       "8        False           False          False            False   \n",
       "9        False           False          False            False   \n",
       "10       False           False          False            False   \n",
       "11       False           False          False            False   \n",
       "12       False           False          False            False   \n",
       "13       False           False          False            False   \n",
       "\n",
       "    club join year  placement offer count   gender  \n",
       "0            False                  False    False  \n",
       "1            False                  False    False  \n",
       "2            False                  False    False  \n",
       "3            False                  False    False  \n",
       "4            False                  False    False  \n",
       "5            False                  False    False  \n",
       "6            False                  False    False  \n",
       "7            False                  False    False  \n",
       "8            False                  False    False  \n",
       "9            False                  False    False  \n",
       "10           False                  False    False  \n",
       "11           False                  False    False  \n",
       "12           False                  False    False  \n",
       "13           False                  False    False  "
      ]
     },
     "execution_count": 5,
     "metadata": {},
     "output_type": "execute_result"
    }
   ],
   "source": [
    "df.isnull()"
   ]
  },
  {
   "cell_type": "code",
   "execution_count": 6,
   "metadata": {
    "colab": {
     "base_uri": "https://localhost:8080/"
    },
    "id": "CBGT9D5d8NvX",
    "outputId": "50c7c177-9a3c-482e-e383-cae40b28684f"
   },
   "outputs": [
    {
     "data": {
      "text/plain": [
       "math score               0\n",
       "reading score            0\n",
       "writing score            0\n",
       "placement score          0\n",
       "club join year           0\n",
       "placement offer count    0\n",
       " gender                  0\n",
       "dtype: int64"
      ]
     },
     "execution_count": 6,
     "metadata": {},
     "output_type": "execute_result"
    }
   ],
   "source": [
    "df.isnull().sum()"
   ]
  },
  {
   "cell_type": "code",
   "execution_count": 7,
   "metadata": {
    "colab": {
     "base_uri": "https://localhost:8080/"
    },
    "id": "VXX0gpdA8Ryn",
    "outputId": "afa8eda4-4645-4930-f6a1-fc6eec8e120c"
   },
   "outputs": [
    {
     "data": {
      "text/plain": [
       "Index(['math score', 'reading score ', 'writing score', 'placement score',\n",
       "       'club join year', 'placement offer count', ' gender'],\n",
       "      dtype='object')"
      ]
     },
     "execution_count": 7,
     "metadata": {},
     "output_type": "execute_result"
    }
   ],
   "source": [
    "df.columns"
   ]
  },
  {
   "cell_type": "code",
   "execution_count": 8,
   "metadata": {
    "colab": {
     "base_uri": "https://localhost:8080/"
    },
    "id": "7p9EuuQX8X56",
    "outputId": "7fa4a8b9-6180-41ee-fd77-90ee79bde52f"
   },
   "outputs": [
    {
     "data": {
      "text/plain": [
       "math score               False\n",
       "reading score            False\n",
       "writing score            False\n",
       "placement score          False\n",
       "club join year           False\n",
       "placement offer count    False\n",
       " gender                  False\n",
       "dtype: bool"
      ]
     },
     "execution_count": 8,
     "metadata": {},
     "output_type": "execute_result"
    }
   ],
   "source": [
    "df.isnull().any()"
   ]
  },
  {
   "cell_type": "code",
   "execution_count": 9,
   "metadata": {
    "colab": {
     "base_uri": "https://localhost:8080/"
    },
    "id": "OOYUPDIP8bJm",
    "outputId": "7ac6eb8c-578d-403d-f0f6-59dd7c071168"
   },
   "outputs": [
    {
     "data": {
      "text/plain": [
       "0"
      ]
     },
     "execution_count": 9,
     "metadata": {},
     "output_type": "execute_result"
    }
   ],
   "source": [
    "pd.isnull(df[\"math score\"]).sum()"
   ]
  },
  {
   "cell_type": "code",
   "execution_count": 10,
   "metadata": {
    "colab": {
     "base_uri": "https://localhost:8080/",
     "height": 488
    },
    "id": "e25Wo_YT8eAL",
    "outputId": "ddbf86b4-0ed3-4a3f-af33-5add62e1a7f5"
   },
   "outputs": [
    {
     "data": {
      "text/html": [
       "<div>\n",
       "<style scoped>\n",
       "    .dataframe tbody tr th:only-of-type {\n",
       "        vertical-align: middle;\n",
       "    }\n",
       "\n",
       "    .dataframe tbody tr th {\n",
       "        vertical-align: top;\n",
       "    }\n",
       "\n",
       "    .dataframe thead th {\n",
       "        text-align: right;\n",
       "    }\n",
       "</style>\n",
       "<table border=\"1\" class=\"dataframe\">\n",
       "  <thead>\n",
       "    <tr style=\"text-align: right;\">\n",
       "      <th></th>\n",
       "      <th>math score</th>\n",
       "      <th>reading score</th>\n",
       "      <th>writing score</th>\n",
       "      <th>placement score</th>\n",
       "      <th>club join year</th>\n",
       "      <th>placement offer count</th>\n",
       "      <th>gender</th>\n",
       "    </tr>\n",
       "  </thead>\n",
       "  <tbody>\n",
       "    <tr>\n",
       "      <th>0</th>\n",
       "      <td>True</td>\n",
       "      <td>True</td>\n",
       "      <td>True</td>\n",
       "      <td>True</td>\n",
       "      <td>True</td>\n",
       "      <td>True</td>\n",
       "      <td>True</td>\n",
       "    </tr>\n",
       "    <tr>\n",
       "      <th>1</th>\n",
       "      <td>True</td>\n",
       "      <td>True</td>\n",
       "      <td>True</td>\n",
       "      <td>True</td>\n",
       "      <td>True</td>\n",
       "      <td>True</td>\n",
       "      <td>True</td>\n",
       "    </tr>\n",
       "    <tr>\n",
       "      <th>2</th>\n",
       "      <td>True</td>\n",
       "      <td>True</td>\n",
       "      <td>True</td>\n",
       "      <td>True</td>\n",
       "      <td>True</td>\n",
       "      <td>True</td>\n",
       "      <td>True</td>\n",
       "    </tr>\n",
       "    <tr>\n",
       "      <th>3</th>\n",
       "      <td>True</td>\n",
       "      <td>True</td>\n",
       "      <td>True</td>\n",
       "      <td>True</td>\n",
       "      <td>True</td>\n",
       "      <td>True</td>\n",
       "      <td>True</td>\n",
       "    </tr>\n",
       "    <tr>\n",
       "      <th>4</th>\n",
       "      <td>True</td>\n",
       "      <td>True</td>\n",
       "      <td>True</td>\n",
       "      <td>True</td>\n",
       "      <td>True</td>\n",
       "      <td>True</td>\n",
       "      <td>True</td>\n",
       "    </tr>\n",
       "    <tr>\n",
       "      <th>5</th>\n",
       "      <td>True</td>\n",
       "      <td>True</td>\n",
       "      <td>True</td>\n",
       "      <td>True</td>\n",
       "      <td>True</td>\n",
       "      <td>True</td>\n",
       "      <td>True</td>\n",
       "    </tr>\n",
       "    <tr>\n",
       "      <th>6</th>\n",
       "      <td>True</td>\n",
       "      <td>True</td>\n",
       "      <td>True</td>\n",
       "      <td>True</td>\n",
       "      <td>True</td>\n",
       "      <td>True</td>\n",
       "      <td>True</td>\n",
       "    </tr>\n",
       "    <tr>\n",
       "      <th>7</th>\n",
       "      <td>True</td>\n",
       "      <td>True</td>\n",
       "      <td>True</td>\n",
       "      <td>True</td>\n",
       "      <td>True</td>\n",
       "      <td>True</td>\n",
       "      <td>True</td>\n",
       "    </tr>\n",
       "    <tr>\n",
       "      <th>8</th>\n",
       "      <td>True</td>\n",
       "      <td>True</td>\n",
       "      <td>True</td>\n",
       "      <td>True</td>\n",
       "      <td>True</td>\n",
       "      <td>True</td>\n",
       "      <td>True</td>\n",
       "    </tr>\n",
       "    <tr>\n",
       "      <th>9</th>\n",
       "      <td>True</td>\n",
       "      <td>True</td>\n",
       "      <td>True</td>\n",
       "      <td>True</td>\n",
       "      <td>True</td>\n",
       "      <td>True</td>\n",
       "      <td>True</td>\n",
       "    </tr>\n",
       "    <tr>\n",
       "      <th>10</th>\n",
       "      <td>True</td>\n",
       "      <td>True</td>\n",
       "      <td>True</td>\n",
       "      <td>True</td>\n",
       "      <td>True</td>\n",
       "      <td>True</td>\n",
       "      <td>True</td>\n",
       "    </tr>\n",
       "    <tr>\n",
       "      <th>11</th>\n",
       "      <td>True</td>\n",
       "      <td>True</td>\n",
       "      <td>True</td>\n",
       "      <td>True</td>\n",
       "      <td>True</td>\n",
       "      <td>True</td>\n",
       "      <td>True</td>\n",
       "    </tr>\n",
       "    <tr>\n",
       "      <th>12</th>\n",
       "      <td>True</td>\n",
       "      <td>True</td>\n",
       "      <td>True</td>\n",
       "      <td>True</td>\n",
       "      <td>True</td>\n",
       "      <td>True</td>\n",
       "      <td>True</td>\n",
       "    </tr>\n",
       "    <tr>\n",
       "      <th>13</th>\n",
       "      <td>True</td>\n",
       "      <td>True</td>\n",
       "      <td>True</td>\n",
       "      <td>True</td>\n",
       "      <td>True</td>\n",
       "      <td>True</td>\n",
       "      <td>True</td>\n",
       "    </tr>\n",
       "  </tbody>\n",
       "</table>\n",
       "</div>"
      ],
      "text/plain": [
       "    math score  reading score   writing score  placement score  \\\n",
       "0         True            True           True             True   \n",
       "1         True            True           True             True   \n",
       "2         True            True           True             True   \n",
       "3         True            True           True             True   \n",
       "4         True            True           True             True   \n",
       "5         True            True           True             True   \n",
       "6         True            True           True             True   \n",
       "7         True            True           True             True   \n",
       "8         True            True           True             True   \n",
       "9         True            True           True             True   \n",
       "10        True            True           True             True   \n",
       "11        True            True           True             True   \n",
       "12        True            True           True             True   \n",
       "13        True            True           True             True   \n",
       "\n",
       "    club join year  placement offer count   gender  \n",
       "0             True                   True     True  \n",
       "1             True                   True     True  \n",
       "2             True                   True     True  \n",
       "3             True                   True     True  \n",
       "4             True                   True     True  \n",
       "5             True                   True     True  \n",
       "6             True                   True     True  \n",
       "7             True                   True     True  \n",
       "8             True                   True     True  \n",
       "9             True                   True     True  \n",
       "10            True                   True     True  \n",
       "11            True                   True     True  \n",
       "12            True                   True     True  \n",
       "13            True                   True     True  "
      ]
     },
     "execution_count": 10,
     "metadata": {},
     "output_type": "execute_result"
    }
   ],
   "source": [
    "df.notnull()"
   ]
  },
  {
   "cell_type": "code",
   "execution_count": 11,
   "metadata": {
    "colab": {
     "base_uri": "https://localhost:8080/"
    },
    "id": "c3VQyce48hsC",
    "outputId": "2df6380b-3e9d-4e37-f25a-89cd08ebc633"
   },
   "outputs": [
    {
     "data": {
      "text/plain": [
       "math score               14\n",
       "reading score            14\n",
       "writing score            14\n",
       "placement score          14\n",
       "club join year           14\n",
       "placement offer count    14\n",
       " gender                  14\n",
       "dtype: int64"
      ]
     },
     "execution_count": 11,
     "metadata": {},
     "output_type": "execute_result"
    }
   ],
   "source": [
    "df.notnull().sum()"
   ]
  },
  {
   "cell_type": "code",
   "execution_count": 12,
   "metadata": {
    "id": "npcdha2Q8lvU"
   },
   "outputs": [],
   "source": [
    "df.head()\n",
    "df1=df"
   ]
  },
  {
   "cell_type": "code",
   "execution_count": 13,
   "metadata": {
    "id": "289wk-LT8pDV"
   },
   "outputs": [],
   "source": [
    "from sklearn import preprocessing\n",
    "le=preprocessing.LabelEncoder()"
   ]
  },
  {
   "cell_type": "code",
   "execution_count": 14,
   "metadata": {
    "colab": {
     "base_uri": "https://localhost:8080/"
    },
    "id": "40hjvVyQ8sdy",
    "outputId": "62149dfd-0463-4798-8fd0-fc75348f3c41"
   },
   "outputs": [
    {
     "data": {
      "text/plain": [
       "Index(['math score', 'reading score ', 'writing score', 'placement score',\n",
       "       'club join year', 'placement offer count', ' gender'],\n",
       "      dtype='object')"
      ]
     },
     "execution_count": 14,
     "metadata": {},
     "output_type": "execute_result"
    }
   ],
   "source": [
    "df.columns"
   ]
  },
  {
   "cell_type": "code",
   "execution_count": 15,
   "metadata": {
    "colab": {
     "base_uri": "https://localhost:8080/",
     "height": 300
    },
    "id": "LIt98-AS9CSS",
    "outputId": "365634ed-f95e-4f8a-be3f-f040f87d8cdb"
   },
   "outputs": [
    {
     "data": {
      "text/html": [
       "<div>\n",
       "<style scoped>\n",
       "    .dataframe tbody tr th:only-of-type {\n",
       "        vertical-align: middle;\n",
       "    }\n",
       "\n",
       "    .dataframe tbody tr th {\n",
       "        vertical-align: top;\n",
       "    }\n",
       "\n",
       "    .dataframe thead th {\n",
       "        text-align: right;\n",
       "    }\n",
       "</style>\n",
       "<table border=\"1\" class=\"dataframe\">\n",
       "  <thead>\n",
       "    <tr style=\"text-align: right;\">\n",
       "      <th></th>\n",
       "      <th>math score</th>\n",
       "      <th>reading score</th>\n",
       "      <th>writing score</th>\n",
       "      <th>placement score</th>\n",
       "      <th>club join year</th>\n",
       "      <th>placement offer count</th>\n",
       "    </tr>\n",
       "  </thead>\n",
       "  <tbody>\n",
       "    <tr>\n",
       "      <th>count</th>\n",
       "      <td>14.000000</td>\n",
       "      <td>14.000000</td>\n",
       "      <td>14.000000</td>\n",
       "      <td>14.000000</td>\n",
       "      <td>14.000000</td>\n",
       "      <td>14.000000</td>\n",
       "    </tr>\n",
       "    <tr>\n",
       "      <th>mean</th>\n",
       "      <td>68.928571</td>\n",
       "      <td>68.071429</td>\n",
       "      <td>72.642857</td>\n",
       "      <td>70.142857</td>\n",
       "      <td>2020.928571</td>\n",
       "      <td>1.214286</td>\n",
       "    </tr>\n",
       "    <tr>\n",
       "      <th>std</th>\n",
       "      <td>7.205386</td>\n",
       "      <td>6.650209</td>\n",
       "      <td>5.982116</td>\n",
       "      <td>5.545021</td>\n",
       "      <td>1.899971</td>\n",
       "      <td>0.425815</td>\n",
       "    </tr>\n",
       "    <tr>\n",
       "      <th>min</th>\n",
       "      <td>61.000000</td>\n",
       "      <td>60.000000</td>\n",
       "      <td>62.000000</td>\n",
       "      <td>62.000000</td>\n",
       "      <td>2018.000000</td>\n",
       "      <td>1.000000</td>\n",
       "    </tr>\n",
       "    <tr>\n",
       "      <th>25%</th>\n",
       "      <td>62.250000</td>\n",
       "      <td>61.500000</td>\n",
       "      <td>69.750000</td>\n",
       "      <td>66.000000</td>\n",
       "      <td>2019.250000</td>\n",
       "      <td>1.000000</td>\n",
       "    </tr>\n",
       "    <tr>\n",
       "      <th>50%</th>\n",
       "      <td>67.000000</td>\n",
       "      <td>67.500000</td>\n",
       "      <td>74.000000</td>\n",
       "      <td>70.500000</td>\n",
       "      <td>2021.000000</td>\n",
       "      <td>1.000000</td>\n",
       "    </tr>\n",
       "    <tr>\n",
       "      <th>75%</th>\n",
       "      <td>75.250000</td>\n",
       "      <td>73.750000</td>\n",
       "      <td>77.000000</td>\n",
       "      <td>72.750000</td>\n",
       "      <td>2022.000000</td>\n",
       "      <td>1.000000</td>\n",
       "    </tr>\n",
       "    <tr>\n",
       "      <th>max</th>\n",
       "      <td>80.000000</td>\n",
       "      <td>78.000000</td>\n",
       "      <td>79.000000</td>\n",
       "      <td>80.000000</td>\n",
       "      <td>2024.000000</td>\n",
       "      <td>2.000000</td>\n",
       "    </tr>\n",
       "  </tbody>\n",
       "</table>\n",
       "</div>"
      ],
      "text/plain": [
       "       math score  reading score   writing score  placement score  \\\n",
       "count   14.000000       14.000000      14.000000        14.000000   \n",
       "mean    68.928571       68.071429      72.642857        70.142857   \n",
       "std      7.205386        6.650209       5.982116         5.545021   \n",
       "min     61.000000       60.000000      62.000000        62.000000   \n",
       "25%     62.250000       61.500000      69.750000        66.000000   \n",
       "50%     67.000000       67.500000      74.000000        70.500000   \n",
       "75%     75.250000       73.750000      77.000000        72.750000   \n",
       "max     80.000000       78.000000      79.000000        80.000000   \n",
       "\n",
       "       club join year  placement offer count  \n",
       "count       14.000000              14.000000  \n",
       "mean      2020.928571               1.214286  \n",
       "std          1.899971               0.425815  \n",
       "min       2018.000000               1.000000  \n",
       "25%       2019.250000               1.000000  \n",
       "50%       2021.000000               1.000000  \n",
       "75%       2022.000000               1.000000  \n",
       "max       2024.000000               2.000000  "
      ]
     },
     "execution_count": 15,
     "metadata": {},
     "output_type": "execute_result"
    }
   ],
   "source": [
    "df.describe()"
   ]
  },
  {
   "cell_type": "code",
   "execution_count": 16,
   "metadata": {
    "colab": {
     "base_uri": "https://localhost:8080/"
    },
    "id": "58sIe7xZ9GZe",
    "outputId": "b3bf36f0-df20-4b13-d73e-00e728cc6065"
   },
   "outputs": [
    {
     "data": {
      "text/plain": [
       "math score               False\n",
       "reading score            False\n",
       "writing score            False\n",
       "placement score          False\n",
       "club join year           False\n",
       "placement offer count    False\n",
       " gender                  False\n",
       "dtype: bool"
      ]
     },
     "execution_count": 16,
     "metadata": {},
     "output_type": "execute_result"
    }
   ],
   "source": [
    "df.isnull().any()"
   ]
  },
  {
   "cell_type": "code",
   "execution_count": 17,
   "metadata": {
    "colab": {
     "base_uri": "https://localhost:8080/"
    },
    "id": "kJH_Ouhl9oME",
    "outputId": "1c7fd7ae-22c1-458f-aa6a-f57a9652b561"
   },
   "outputs": [
    {
     "data": {
      "text/plain": [
       "0     66\n",
       "1     60\n",
       "2     75\n",
       "3     63\n",
       "4     78\n",
       "5     77\n",
       "6     60\n",
       "7     60\n",
       "8     73\n",
       "9     66\n",
       "10    71\n",
       "11    74\n",
       "12    69\n",
       "13    61\n",
       "Name: reading score , dtype: int64"
      ]
     },
     "execution_count": 17,
     "metadata": {},
     "output_type": "execute_result"
    }
   ],
   "source": [
    "df['reading score ']"
   ]
  },
  {
   "cell_type": "code",
   "execution_count": 18,
   "metadata": {
    "colab": {
     "base_uri": "https://localhost:8080/"
    },
    "id": "fmg0GiI19Poa",
    "outputId": "9a38323c-546b-4b7f-8993-46c1657a5162"
   },
   "outputs": [
    {
     "data": {
      "text/plain": [
       "[]"
      ]
     },
     "execution_count": 18,
     "metadata": {},
     "output_type": "execute_result"
    }
   ],
   "source": [
    "df[df['reading score '].isnull()].index.tolist()"
   ]
  },
  {
   "cell_type": "code",
   "execution_count": 19,
   "metadata": {
    "id": "ccZt7Rpn9Sk4"
   },
   "outputs": [],
   "source": [
    "df['reading score ']=df['reading score '].fillna(66)"
   ]
  },
  {
   "cell_type": "code",
   "execution_count": 20,
   "metadata": {
    "colab": {
     "base_uri": "https://localhost:8080/"
    },
    "id": "YrZXsf3794Bi",
    "outputId": "502a77f6-1d52-4791-80a2-1c6b002d922b"
   },
   "outputs": [
    {
     "data": {
      "text/plain": [
       "0     66\n",
       "1     60\n",
       "2     75\n",
       "3     63\n",
       "4     78\n",
       "5     77\n",
       "6     60\n",
       "7     60\n",
       "8     73\n",
       "9     66\n",
       "10    71\n",
       "11    74\n",
       "12    69\n",
       "13    61\n",
       "Name: reading score , dtype: int64"
      ]
     },
     "execution_count": 20,
     "metadata": {},
     "output_type": "execute_result"
    }
   ],
   "source": [
    "df['reading score ']"
   ]
  },
  {
   "cell_type": "code",
   "execution_count": 21,
   "metadata": {
    "colab": {
     "base_uri": "https://localhost:8080/"
    },
    "id": "J78cc-5C97LY",
    "outputId": "69c9e674-a496-4484-d7a4-03a199b0fcbd"
   },
   "outputs": [
    {
     "data": {
      "text/plain": [
       "14"
      ]
     },
     "execution_count": 21,
     "metadata": {},
     "output_type": "execute_result"
    }
   ],
   "source": [
    "df['reading score '].notnull().sum()"
   ]
  },
  {
   "cell_type": "code",
   "execution_count": 22,
   "metadata": {
    "colab": {
     "base_uri": "https://localhost:8080/"
    },
    "id": "8nwdNEXY9-m8",
    "outputId": "8c1643a8-fe1a-4a43-dc27-6281141c96c0"
   },
   "outputs": [
    {
     "data": {
      "text/plain": [
       "[]"
      ]
     },
     "execution_count": 22,
     "metadata": {},
     "output_type": "execute_result"
    }
   ],
   "source": [
    "df[df['math score'].isnull()].index.tolist()"
   ]
  },
  {
   "cell_type": "code",
   "execution_count": 23,
   "metadata": {
    "id": "bKDIlcBF-BOm"
   },
   "outputs": [],
   "source": [
    "df['math score']=df['math score'].fillna(df['math score'].mean())"
   ]
  },
  {
   "cell_type": "code",
   "execution_count": 24,
   "metadata": {
    "colab": {
     "base_uri": "https://localhost:8080/"
    },
    "id": "6EDFsGXj-D64",
    "outputId": "fd02588f-0376-48da-9c90-2c1f767c326c"
   },
   "outputs": [
    {
     "data": {
      "text/plain": [
       "<bound method NDFrame._add_numeric_operations.<locals>.sum of 0     False\n",
       "1     False\n",
       "2     False\n",
       "3     False\n",
       "4     False\n",
       "5     False\n",
       "6     False\n",
       "7     False\n",
       "8     False\n",
       "9     False\n",
       "10    False\n",
       "11    False\n",
       "12    False\n",
       "13    False\n",
       "Name: math score, dtype: bool>"
      ]
     },
     "execution_count": 24,
     "metadata": {},
     "output_type": "execute_result"
    }
   ],
   "source": [
    "df['math score'].isnull().sum"
   ]
  },
  {
   "cell_type": "code",
   "execution_count": 25,
   "metadata": {
    "colab": {
     "base_uri": "https://localhost:8080/"
    },
    "id": "uZKbXWCQ-HKZ",
    "outputId": "ce8bb232-c53f-4636-92b7-780ef66e2168"
   },
   "outputs": [
    {
     "data": {
      "text/plain": [
       "math score               0\n",
       "reading score            0\n",
       "writing score            0\n",
       "placement score          0\n",
       "club join year           0\n",
       "placement offer count    0\n",
       " gender                  0\n",
       "dtype: int64"
      ]
     },
     "execution_count": 25,
     "metadata": {},
     "output_type": "execute_result"
    }
   ],
   "source": [
    "df.isnull().sum()"
   ]
  },
  {
   "cell_type": "code",
   "execution_count": 26,
   "metadata": {
    "id": "4HzRH_H2-NQQ"
   },
   "outputs": [],
   "source": [
    "df[df['writing score']]=df['writing score'].fillna(df['writing score'].median())"
   ]
  },
  {
   "cell_type": "code",
   "execution_count": 27,
   "metadata": {
    "colab": {
     "base_uri": "https://localhost:8080/"
    },
    "id": "r5rahU6h-Rbr",
    "outputId": "43351d58-2b46-440d-9117-33a28c36249c"
   },
   "outputs": [
    {
     "data": {
      "text/plain": [
       "0"
      ]
     },
     "execution_count": 27,
     "metadata": {},
     "output_type": "execute_result"
    }
   ],
   "source": [
    "df['writing score'].isnull().sum()"
   ]
  },
  {
   "cell_type": "code",
   "execution_count": 28,
   "metadata": {
    "colab": {
     "base_uri": "https://localhost:8080/",
     "height": 250
    },
    "id": "EdL46uhb-UEU",
    "outputId": "1166fbb8-a969-4906-b9b3-bb640e6abf48"
   },
   "outputs": [
    {
     "data": {
      "text/html": [
       "<div>\n",
       "<style scoped>\n",
       "    .dataframe tbody tr th:only-of-type {\n",
       "        vertical-align: middle;\n",
       "    }\n",
       "\n",
       "    .dataframe tbody tr th {\n",
       "        vertical-align: top;\n",
       "    }\n",
       "\n",
       "    .dataframe thead th {\n",
       "        text-align: right;\n",
       "    }\n",
       "</style>\n",
       "<table border=\"1\" class=\"dataframe\">\n",
       "  <thead>\n",
       "    <tr style=\"text-align: right;\">\n",
       "      <th></th>\n",
       "      <th>math score</th>\n",
       "      <th>reading score</th>\n",
       "      <th>writing score</th>\n",
       "      <th>placement score</th>\n",
       "      <th>club join year</th>\n",
       "      <th>placement offer count</th>\n",
       "      <th>gender</th>\n",
       "      <th>63</th>\n",
       "      <th>75</th>\n",
       "      <th>62</th>\n",
       "      <th>79</th>\n",
       "      <th>69</th>\n",
       "      <th>72</th>\n",
       "      <th>77</th>\n",
       "      <th>73</th>\n",
       "      <th>64</th>\n",
       "    </tr>\n",
       "  </thead>\n",
       "  <tbody>\n",
       "    <tr>\n",
       "      <th>0</th>\n",
       "      <td>79</td>\n",
       "      <td>66</td>\n",
       "      <td>63</td>\n",
       "      <td>72</td>\n",
       "      <td>2018</td>\n",
       "      <td>1</td>\n",
       "      <td>female</td>\n",
       "      <td>63</td>\n",
       "      <td>75</td>\n",
       "      <td>62</td>\n",
       "      <td>79</td>\n",
       "      <td>69</td>\n",
       "      <td>72</td>\n",
       "      <td>77</td>\n",
       "      <td>73</td>\n",
       "      <td>64</td>\n",
       "    </tr>\n",
       "    <tr>\n",
       "      <th>1</th>\n",
       "      <td>61</td>\n",
       "      <td>60</td>\n",
       "      <td>75</td>\n",
       "      <td>75</td>\n",
       "      <td>2022</td>\n",
       "      <td>2</td>\n",
       "      <td>female</td>\n",
       "      <td>63</td>\n",
       "      <td>75</td>\n",
       "      <td>62</td>\n",
       "      <td>79</td>\n",
       "      <td>69</td>\n",
       "      <td>72</td>\n",
       "      <td>77</td>\n",
       "      <td>73</td>\n",
       "      <td>64</td>\n",
       "    </tr>\n",
       "    <tr>\n",
       "      <th>2</th>\n",
       "      <td>76</td>\n",
       "      <td>75</td>\n",
       "      <td>62</td>\n",
       "      <td>69</td>\n",
       "      <td>2020</td>\n",
       "      <td>1</td>\n",
       "      <td>female</td>\n",
       "      <td>63</td>\n",
       "      <td>75</td>\n",
       "      <td>62</td>\n",
       "      <td>79</td>\n",
       "      <td>69</td>\n",
       "      <td>72</td>\n",
       "      <td>77</td>\n",
       "      <td>73</td>\n",
       "      <td>64</td>\n",
       "    </tr>\n",
       "    <tr>\n",
       "      <th>3</th>\n",
       "      <td>73</td>\n",
       "      <td>63</td>\n",
       "      <td>79</td>\n",
       "      <td>64</td>\n",
       "      <td>2019</td>\n",
       "      <td>1</td>\n",
       "      <td>male</td>\n",
       "      <td>63</td>\n",
       "      <td>75</td>\n",
       "      <td>62</td>\n",
       "      <td>79</td>\n",
       "      <td>69</td>\n",
       "      <td>72</td>\n",
       "      <td>77</td>\n",
       "      <td>73</td>\n",
       "      <td>64</td>\n",
       "    </tr>\n",
       "    <tr>\n",
       "      <th>4</th>\n",
       "      <td>61</td>\n",
       "      <td>78</td>\n",
       "      <td>69</td>\n",
       "      <td>66</td>\n",
       "      <td>2022</td>\n",
       "      <td>1</td>\n",
       "      <td>male</td>\n",
       "      <td>63</td>\n",
       "      <td>75</td>\n",
       "      <td>62</td>\n",
       "      <td>79</td>\n",
       "      <td>69</td>\n",
       "      <td>72</td>\n",
       "      <td>77</td>\n",
       "      <td>73</td>\n",
       "      <td>64</td>\n",
       "    </tr>\n",
       "  </tbody>\n",
       "</table>\n",
       "</div>"
      ],
      "text/plain": [
       "   math score  reading score   writing score  placement score  club join year  \\\n",
       "0          79              66             63               72            2018   \n",
       "1          61              60             75               75            2022   \n",
       "2          76              75             62               69            2020   \n",
       "3          73              63             79               64            2019   \n",
       "4          61              78             69               66            2022   \n",
       "\n",
       "   placement offer count  gender  63  75  62  79  69  72  77  73  64  \n",
       "0                      1  female  63  75  62  79  69  72  77  73  64  \n",
       "1                      2  female  63  75  62  79  69  72  77  73  64  \n",
       "2                      1  female  63  75  62  79  69  72  77  73  64  \n",
       "3                      1    male  63  75  62  79  69  72  77  73  64  \n",
       "4                      1    male  63  75  62  79  69  72  77  73  64  "
      ]
     },
     "execution_count": 28,
     "metadata": {},
     "output_type": "execute_result"
    }
   ],
   "source": [
    "df2.head()"
   ]
  },
  {
   "cell_type": "code",
   "execution_count": 29,
   "metadata": {
    "id": "uTPqZfrD-Wkt"
   },
   "outputs": [],
   "source": [
    "import numpy as np"
   ]
  },
  {
   "cell_type": "code",
   "execution_count": 30,
   "metadata": {
    "colab": {
     "base_uri": "https://localhost:8080/"
    },
    "id": "PpuYtW14-aWh",
    "outputId": "530a0eeb-7cf6-433f-c91b-d92dc0f296a6"
   },
   "outputs": [
    {
     "data": {
      "text/plain": [
       "math score               0\n",
       "reading score            0\n",
       "writing score            0\n",
       "placement score          0\n",
       "club join year           0\n",
       "placement offer count    0\n",
       " gender                  0\n",
       "63                       0\n",
       "75                       0\n",
       "62                       0\n",
       "79                       0\n",
       "69                       0\n",
       "72                       0\n",
       "77                       0\n",
       "73                       0\n",
       "64                       0\n",
       "dtype: int64"
      ]
     },
     "execution_count": 30,
     "metadata": {},
     "output_type": "execute_result"
    }
   ],
   "source": [
    "df.isnull().sum()"
   ]
  },
  {
   "cell_type": "code",
   "execution_count": 31,
   "metadata": {
    "colab": {
     "base_uri": "https://localhost:8080/"
    },
    "id": "x9KsSctG-dUJ",
    "outputId": "02aaf4b5-7f76-47f8-b569-ff4179a04d9f"
   },
   "outputs": [
    {
     "data": {
      "text/plain": [
       "[]"
      ]
     },
     "execution_count": 31,
     "metadata": {},
     "output_type": "execute_result"
    }
   ],
   "source": [
    "df[df['math score'].isnull()].index.tolist()"
   ]
  },
  {
   "cell_type": "code",
   "execution_count": 32,
   "metadata": {
    "colab": {
     "base_uri": "https://localhost:8080/"
    },
    "id": "mkLAXDlX-gKR",
    "outputId": "77f0e98e-4aef-416a-f32c-93c668682350"
   },
   "outputs": [
    {
     "data": {
      "text/plain": [
       "[]"
      ]
     },
     "execution_count": 32,
     "metadata": {},
     "output_type": "execute_result"
    }
   ],
   "source": [
    "df[df['reading score '].isnull()].index.tolist()"
   ]
  },
  {
   "cell_type": "code",
   "execution_count": 33,
   "metadata": {
    "colab": {
     "base_uri": "https://localhost:8080/",
     "height": 532
    },
    "id": "dQQmq0Ds-iqt",
    "outputId": "60157680-f6bf-4d83-b225-c7d0b0e0fdbd"
   },
   "outputs": [
    {
     "data": {
      "text/html": [
       "<div>\n",
       "<style scoped>\n",
       "    .dataframe tbody tr th:only-of-type {\n",
       "        vertical-align: middle;\n",
       "    }\n",
       "\n",
       "    .dataframe tbody tr th {\n",
       "        vertical-align: top;\n",
       "    }\n",
       "\n",
       "    .dataframe thead th {\n",
       "        text-align: right;\n",
       "    }\n",
       "</style>\n",
       "<table border=\"1\" class=\"dataframe\">\n",
       "  <thead>\n",
       "    <tr style=\"text-align: right;\">\n",
       "      <th></th>\n",
       "      <th>math score</th>\n",
       "      <th>reading score</th>\n",
       "      <th>writing score</th>\n",
       "      <th>placement score</th>\n",
       "      <th>club join year</th>\n",
       "      <th>placement offer count</th>\n",
       "      <th>gender</th>\n",
       "      <th>63</th>\n",
       "      <th>75</th>\n",
       "      <th>62</th>\n",
       "      <th>79</th>\n",
       "      <th>69</th>\n",
       "      <th>72</th>\n",
       "      <th>77</th>\n",
       "      <th>73</th>\n",
       "      <th>64</th>\n",
       "    </tr>\n",
       "  </thead>\n",
       "  <tbody>\n",
       "    <tr>\n",
       "      <th>0</th>\n",
       "      <td>79</td>\n",
       "      <td>66</td>\n",
       "      <td>63</td>\n",
       "      <td>72</td>\n",
       "      <td>2018</td>\n",
       "      <td>1</td>\n",
       "      <td>female</td>\n",
       "      <td>63</td>\n",
       "      <td>75</td>\n",
       "      <td>62</td>\n",
       "      <td>79</td>\n",
       "      <td>69</td>\n",
       "      <td>72</td>\n",
       "      <td>77</td>\n",
       "      <td>73</td>\n",
       "      <td>64</td>\n",
       "    </tr>\n",
       "    <tr>\n",
       "      <th>1</th>\n",
       "      <td>61</td>\n",
       "      <td>60</td>\n",
       "      <td>75</td>\n",
       "      <td>75</td>\n",
       "      <td>2022</td>\n",
       "      <td>2</td>\n",
       "      <td>female</td>\n",
       "      <td>63</td>\n",
       "      <td>75</td>\n",
       "      <td>62</td>\n",
       "      <td>79</td>\n",
       "      <td>69</td>\n",
       "      <td>72</td>\n",
       "      <td>77</td>\n",
       "      <td>73</td>\n",
       "      <td>64</td>\n",
       "    </tr>\n",
       "    <tr>\n",
       "      <th>2</th>\n",
       "      <td>76</td>\n",
       "      <td>75</td>\n",
       "      <td>62</td>\n",
       "      <td>69</td>\n",
       "      <td>2020</td>\n",
       "      <td>1</td>\n",
       "      <td>female</td>\n",
       "      <td>63</td>\n",
       "      <td>75</td>\n",
       "      <td>62</td>\n",
       "      <td>79</td>\n",
       "      <td>69</td>\n",
       "      <td>72</td>\n",
       "      <td>77</td>\n",
       "      <td>73</td>\n",
       "      <td>64</td>\n",
       "    </tr>\n",
       "    <tr>\n",
       "      <th>3</th>\n",
       "      <td>73</td>\n",
       "      <td>63</td>\n",
       "      <td>79</td>\n",
       "      <td>64</td>\n",
       "      <td>2019</td>\n",
       "      <td>1</td>\n",
       "      <td>male</td>\n",
       "      <td>63</td>\n",
       "      <td>75</td>\n",
       "      <td>62</td>\n",
       "      <td>79</td>\n",
       "      <td>69</td>\n",
       "      <td>72</td>\n",
       "      <td>77</td>\n",
       "      <td>73</td>\n",
       "      <td>64</td>\n",
       "    </tr>\n",
       "    <tr>\n",
       "      <th>4</th>\n",
       "      <td>61</td>\n",
       "      <td>78</td>\n",
       "      <td>69</td>\n",
       "      <td>66</td>\n",
       "      <td>2022</td>\n",
       "      <td>1</td>\n",
       "      <td>male</td>\n",
       "      <td>63</td>\n",
       "      <td>75</td>\n",
       "      <td>62</td>\n",
       "      <td>79</td>\n",
       "      <td>69</td>\n",
       "      <td>72</td>\n",
       "      <td>77</td>\n",
       "      <td>73</td>\n",
       "      <td>64</td>\n",
       "    </tr>\n",
       "    <tr>\n",
       "      <th>5</th>\n",
       "      <td>62</td>\n",
       "      <td>77</td>\n",
       "      <td>72</td>\n",
       "      <td>73</td>\n",
       "      <td>2019</td>\n",
       "      <td>1</td>\n",
       "      <td>female</td>\n",
       "      <td>63</td>\n",
       "      <td>75</td>\n",
       "      <td>62</td>\n",
       "      <td>79</td>\n",
       "      <td>69</td>\n",
       "      <td>72</td>\n",
       "      <td>77</td>\n",
       "      <td>73</td>\n",
       "      <td>64</td>\n",
       "    </tr>\n",
       "    <tr>\n",
       "      <th>6</th>\n",
       "      <td>80</td>\n",
       "      <td>60</td>\n",
       "      <td>79</td>\n",
       "      <td>72</td>\n",
       "      <td>2020</td>\n",
       "      <td>1</td>\n",
       "      <td>male</td>\n",
       "      <td>63</td>\n",
       "      <td>75</td>\n",
       "      <td>62</td>\n",
       "      <td>79</td>\n",
       "      <td>69</td>\n",
       "      <td>72</td>\n",
       "      <td>77</td>\n",
       "      <td>73</td>\n",
       "      <td>64</td>\n",
       "    </tr>\n",
       "    <tr>\n",
       "      <th>7</th>\n",
       "      <td>68</td>\n",
       "      <td>60</td>\n",
       "      <td>77</td>\n",
       "      <td>72</td>\n",
       "      <td>2020</td>\n",
       "      <td>1</td>\n",
       "      <td>male</td>\n",
       "      <td>63</td>\n",
       "      <td>75</td>\n",
       "      <td>62</td>\n",
       "      <td>79</td>\n",
       "      <td>69</td>\n",
       "      <td>72</td>\n",
       "      <td>77</td>\n",
       "      <td>73</td>\n",
       "      <td>64</td>\n",
       "    </tr>\n",
       "    <tr>\n",
       "      <th>8</th>\n",
       "      <td>70</td>\n",
       "      <td>73</td>\n",
       "      <td>77</td>\n",
       "      <td>66</td>\n",
       "      <td>2022</td>\n",
       "      <td>1</td>\n",
       "      <td>male</td>\n",
       "      <td>63</td>\n",
       "      <td>75</td>\n",
       "      <td>62</td>\n",
       "      <td>79</td>\n",
       "      <td>69</td>\n",
       "      <td>72</td>\n",
       "      <td>77</td>\n",
       "      <td>73</td>\n",
       "      <td>64</td>\n",
       "    </tr>\n",
       "    <tr>\n",
       "      <th>9</th>\n",
       "      <td>63</td>\n",
       "      <td>66</td>\n",
       "      <td>73</td>\n",
       "      <td>68</td>\n",
       "      <td>2024</td>\n",
       "      <td>1</td>\n",
       "      <td>female</td>\n",
       "      <td>63</td>\n",
       "      <td>75</td>\n",
       "      <td>62</td>\n",
       "      <td>79</td>\n",
       "      <td>69</td>\n",
       "      <td>72</td>\n",
       "      <td>77</td>\n",
       "      <td>73</td>\n",
       "      <td>64</td>\n",
       "    </tr>\n",
       "    <tr>\n",
       "      <th>10</th>\n",
       "      <td>66</td>\n",
       "      <td>71</td>\n",
       "      <td>75</td>\n",
       "      <td>80</td>\n",
       "      <td>2022</td>\n",
       "      <td>2</td>\n",
       "      <td>female</td>\n",
       "      <td>63</td>\n",
       "      <td>75</td>\n",
       "      <td>62</td>\n",
       "      <td>79</td>\n",
       "      <td>69</td>\n",
       "      <td>72</td>\n",
       "      <td>77</td>\n",
       "      <td>73</td>\n",
       "      <td>64</td>\n",
       "    </tr>\n",
       "    <tr>\n",
       "      <th>11</th>\n",
       "      <td>62</td>\n",
       "      <td>74</td>\n",
       "      <td>79</td>\n",
       "      <td>64</td>\n",
       "      <td>2024</td>\n",
       "      <td>1</td>\n",
       "      <td>male</td>\n",
       "      <td>63</td>\n",
       "      <td>75</td>\n",
       "      <td>62</td>\n",
       "      <td>79</td>\n",
       "      <td>69</td>\n",
       "      <td>72</td>\n",
       "      <td>77</td>\n",
       "      <td>73</td>\n",
       "      <td>64</td>\n",
       "    </tr>\n",
       "    <tr>\n",
       "      <th>12</th>\n",
       "      <td>79</td>\n",
       "      <td>69</td>\n",
       "      <td>73</td>\n",
       "      <td>79</td>\n",
       "      <td>2019</td>\n",
       "      <td>2</td>\n",
       "      <td>male</td>\n",
       "      <td>63</td>\n",
       "      <td>75</td>\n",
       "      <td>62</td>\n",
       "      <td>79</td>\n",
       "      <td>69</td>\n",
       "      <td>72</td>\n",
       "      <td>77</td>\n",
       "      <td>73</td>\n",
       "      <td>64</td>\n",
       "    </tr>\n",
       "    <tr>\n",
       "      <th>13</th>\n",
       "      <td>65</td>\n",
       "      <td>61</td>\n",
       "      <td>64</td>\n",
       "      <td>62</td>\n",
       "      <td>2022</td>\n",
       "      <td>1</td>\n",
       "      <td>male</td>\n",
       "      <td>63</td>\n",
       "      <td>75</td>\n",
       "      <td>62</td>\n",
       "      <td>79</td>\n",
       "      <td>69</td>\n",
       "      <td>72</td>\n",
       "      <td>77</td>\n",
       "      <td>73</td>\n",
       "      <td>64</td>\n",
       "    </tr>\n",
       "  </tbody>\n",
       "</table>\n",
       "</div>"
      ],
      "text/plain": [
       "    math score  reading score   writing score  placement score  \\\n",
       "0           79              66             63               72   \n",
       "1           61              60             75               75   \n",
       "2           76              75             62               69   \n",
       "3           73              63             79               64   \n",
       "4           61              78             69               66   \n",
       "5           62              77             72               73   \n",
       "6           80              60             79               72   \n",
       "7           68              60             77               72   \n",
       "8           70              73             77               66   \n",
       "9           63              66             73               68   \n",
       "10          66              71             75               80   \n",
       "11          62              74             79               64   \n",
       "12          79              69             73               79   \n",
       "13          65              61             64               62   \n",
       "\n",
       "    club join year  placement offer count  gender  63  75  62  79  69  72  77  \\\n",
       "0             2018                      1  female  63  75  62  79  69  72  77   \n",
       "1             2022                      2  female  63  75  62  79  69  72  77   \n",
       "2             2020                      1  female  63  75  62  79  69  72  77   \n",
       "3             2019                      1    male  63  75  62  79  69  72  77   \n",
       "4             2022                      1    male  63  75  62  79  69  72  77   \n",
       "5             2019                      1  female  63  75  62  79  69  72  77   \n",
       "6             2020                      1    male  63  75  62  79  69  72  77   \n",
       "7             2020                      1    male  63  75  62  79  69  72  77   \n",
       "8             2022                      1    male  63  75  62  79  69  72  77   \n",
       "9             2024                      1  female  63  75  62  79  69  72  77   \n",
       "10            2022                      2  female  63  75  62  79  69  72  77   \n",
       "11            2024                      1    male  63  75  62  79  69  72  77   \n",
       "12            2019                      2    male  63  75  62  79  69  72  77   \n",
       "13            2022                      1    male  63  75  62  79  69  72  77   \n",
       "\n",
       "    73  64  \n",
       "0   73  64  \n",
       "1   73  64  \n",
       "2   73  64  \n",
       "3   73  64  \n",
       "4   73  64  \n",
       "5   73  64  \n",
       "6   73  64  \n",
       "7   73  64  \n",
       "8   73  64  \n",
       "9   73  64  \n",
       "10  73  64  \n",
       "11  73  64  \n",
       "12  73  64  \n",
       "13  73  64  "
      ]
     },
     "execution_count": 33,
     "metadata": {},
     "output_type": "execute_result"
    }
   ],
   "source": [
    "df.replace(to_replace = np.nan,value=80)"
   ]
  },
  {
   "cell_type": "code",
   "execution_count": 34,
   "metadata": {
    "colab": {
     "base_uri": "https://localhost:8080/"
    },
    "id": "aaHQ2IMI-ly1",
    "outputId": "c1f7edc1-3bf7-4530-b937-454119bb485c"
   },
   "outputs": [
    {
     "data": {
      "text/plain": [
       "math score               0\n",
       "reading score            0\n",
       "writing score            0\n",
       "placement score          0\n",
       "club join year           0\n",
       "placement offer count    0\n",
       " gender                  0\n",
       "63                       0\n",
       "75                       0\n",
       "62                       0\n",
       "79                       0\n",
       "69                       0\n",
       "72                       0\n",
       "77                       0\n",
       "73                       0\n",
       "64                       0\n",
       "dtype: int64"
      ]
     },
     "execution_count": 34,
     "metadata": {},
     "output_type": "execute_result"
    }
   ],
   "source": [
    "df2.isnull().sum()"
   ]
  },
  {
   "cell_type": "code",
   "execution_count": 35,
   "metadata": {
    "colab": {
     "base_uri": "https://localhost:8080/"
    },
    "id": "z5tR7G0u-rZC",
    "outputId": "c2d30b20-9d6c-4f49-cb58-13f5781e1408"
   },
   "outputs": [
    {
     "data": {
      "text/plain": [
       "math score               0\n",
       "reading score            0\n",
       "writing score            0\n",
       "placement score          0\n",
       "club join year           0\n",
       "placement offer count    0\n",
       " gender                  0\n",
       "63                       0\n",
       "75                       0\n",
       "62                       0\n",
       "79                       0\n",
       "69                       0\n",
       "72                       0\n",
       "77                       0\n",
       "73                       0\n",
       "64                       0\n",
       "dtype: int64"
      ]
     },
     "execution_count": 35,
     "metadata": {},
     "output_type": "execute_result"
    }
   ],
   "source": [
    "df3.isnull().sum()"
   ]
  },
  {
   "cell_type": "code",
   "execution_count": 36,
   "metadata": {
    "colab": {
     "base_uri": "https://localhost:8080/"
    },
    "id": "xg8rP9nh-vkZ",
    "outputId": "13d20687-a788-4fed-c49d-999c998de558"
   },
   "outputs": [
    {
     "data": {
      "text/plain": [
       "[]"
      ]
     },
     "execution_count": 36,
     "metadata": {},
     "output_type": "execute_result"
    }
   ],
   "source": [
    "df3[df3['math score'].isnull()].index.tolist()"
   ]
  },
  {
   "cell_type": "code",
   "execution_count": 37,
   "metadata": {
    "colab": {
     "base_uri": "https://localhost:8080/"
    },
    "id": "zkOMQisk-1mc",
    "outputId": "74c3c8e6-c144-44b8-8320-98410f5889e8"
   },
   "outputs": [
    {
     "data": {
      "text/plain": [
       "[]"
      ]
     },
     "execution_count": 37,
     "metadata": {},
     "output_type": "execute_result"
    }
   ],
   "source": [
    "df3[df3['reading score '].isnull()].index.tolist()"
   ]
  },
  {
   "cell_type": "code",
   "execution_count": 38,
   "metadata": {
    "colab": {
     "base_uri": "https://localhost:8080/",
     "height": 532
    },
    "id": "tF_ooUqn-5wB",
    "outputId": "5832f45c-4927-4cfc-abb1-ed3650cc80c1"
   },
   "outputs": [
    {
     "data": {
      "text/html": [
       "<div>\n",
       "<style scoped>\n",
       "    .dataframe tbody tr th:only-of-type {\n",
       "        vertical-align: middle;\n",
       "    }\n",
       "\n",
       "    .dataframe tbody tr th {\n",
       "        vertical-align: top;\n",
       "    }\n",
       "\n",
       "    .dataframe thead th {\n",
       "        text-align: right;\n",
       "    }\n",
       "</style>\n",
       "<table border=\"1\" class=\"dataframe\">\n",
       "  <thead>\n",
       "    <tr style=\"text-align: right;\">\n",
       "      <th></th>\n",
       "      <th>math score</th>\n",
       "      <th>reading score</th>\n",
       "      <th>writing score</th>\n",
       "      <th>placement score</th>\n",
       "      <th>club join year</th>\n",
       "      <th>placement offer count</th>\n",
       "      <th>gender</th>\n",
       "      <th>63</th>\n",
       "      <th>75</th>\n",
       "      <th>62</th>\n",
       "      <th>79</th>\n",
       "      <th>69</th>\n",
       "      <th>72</th>\n",
       "      <th>77</th>\n",
       "      <th>73</th>\n",
       "      <th>64</th>\n",
       "    </tr>\n",
       "  </thead>\n",
       "  <tbody>\n",
       "    <tr>\n",
       "      <th>0</th>\n",
       "      <td>79</td>\n",
       "      <td>66</td>\n",
       "      <td>63</td>\n",
       "      <td>72</td>\n",
       "      <td>2018</td>\n",
       "      <td>1</td>\n",
       "      <td>female</td>\n",
       "      <td>63</td>\n",
       "      <td>75</td>\n",
       "      <td>62</td>\n",
       "      <td>79</td>\n",
       "      <td>69</td>\n",
       "      <td>72</td>\n",
       "      <td>77</td>\n",
       "      <td>73</td>\n",
       "      <td>64</td>\n",
       "    </tr>\n",
       "    <tr>\n",
       "      <th>1</th>\n",
       "      <td>61</td>\n",
       "      <td>60</td>\n",
       "      <td>75</td>\n",
       "      <td>75</td>\n",
       "      <td>2022</td>\n",
       "      <td>2</td>\n",
       "      <td>female</td>\n",
       "      <td>63</td>\n",
       "      <td>75</td>\n",
       "      <td>62</td>\n",
       "      <td>79</td>\n",
       "      <td>69</td>\n",
       "      <td>72</td>\n",
       "      <td>77</td>\n",
       "      <td>73</td>\n",
       "      <td>64</td>\n",
       "    </tr>\n",
       "    <tr>\n",
       "      <th>2</th>\n",
       "      <td>76</td>\n",
       "      <td>75</td>\n",
       "      <td>62</td>\n",
       "      <td>69</td>\n",
       "      <td>2020</td>\n",
       "      <td>1</td>\n",
       "      <td>female</td>\n",
       "      <td>63</td>\n",
       "      <td>75</td>\n",
       "      <td>62</td>\n",
       "      <td>79</td>\n",
       "      <td>69</td>\n",
       "      <td>72</td>\n",
       "      <td>77</td>\n",
       "      <td>73</td>\n",
       "      <td>64</td>\n",
       "    </tr>\n",
       "    <tr>\n",
       "      <th>3</th>\n",
       "      <td>73</td>\n",
       "      <td>63</td>\n",
       "      <td>79</td>\n",
       "      <td>64</td>\n",
       "      <td>2019</td>\n",
       "      <td>1</td>\n",
       "      <td>male</td>\n",
       "      <td>63</td>\n",
       "      <td>75</td>\n",
       "      <td>62</td>\n",
       "      <td>79</td>\n",
       "      <td>69</td>\n",
       "      <td>72</td>\n",
       "      <td>77</td>\n",
       "      <td>73</td>\n",
       "      <td>64</td>\n",
       "    </tr>\n",
       "    <tr>\n",
       "      <th>4</th>\n",
       "      <td>61</td>\n",
       "      <td>78</td>\n",
       "      <td>69</td>\n",
       "      <td>66</td>\n",
       "      <td>2022</td>\n",
       "      <td>1</td>\n",
       "      <td>male</td>\n",
       "      <td>63</td>\n",
       "      <td>75</td>\n",
       "      <td>62</td>\n",
       "      <td>79</td>\n",
       "      <td>69</td>\n",
       "      <td>72</td>\n",
       "      <td>77</td>\n",
       "      <td>73</td>\n",
       "      <td>64</td>\n",
       "    </tr>\n",
       "    <tr>\n",
       "      <th>5</th>\n",
       "      <td>62</td>\n",
       "      <td>77</td>\n",
       "      <td>72</td>\n",
       "      <td>73</td>\n",
       "      <td>2019</td>\n",
       "      <td>1</td>\n",
       "      <td>female</td>\n",
       "      <td>63</td>\n",
       "      <td>75</td>\n",
       "      <td>62</td>\n",
       "      <td>79</td>\n",
       "      <td>69</td>\n",
       "      <td>72</td>\n",
       "      <td>77</td>\n",
       "      <td>73</td>\n",
       "      <td>64</td>\n",
       "    </tr>\n",
       "    <tr>\n",
       "      <th>6</th>\n",
       "      <td>80</td>\n",
       "      <td>60</td>\n",
       "      <td>79</td>\n",
       "      <td>72</td>\n",
       "      <td>2020</td>\n",
       "      <td>1</td>\n",
       "      <td>male</td>\n",
       "      <td>63</td>\n",
       "      <td>75</td>\n",
       "      <td>62</td>\n",
       "      <td>79</td>\n",
       "      <td>69</td>\n",
       "      <td>72</td>\n",
       "      <td>77</td>\n",
       "      <td>73</td>\n",
       "      <td>64</td>\n",
       "    </tr>\n",
       "    <tr>\n",
       "      <th>7</th>\n",
       "      <td>68</td>\n",
       "      <td>60</td>\n",
       "      <td>77</td>\n",
       "      <td>72</td>\n",
       "      <td>2020</td>\n",
       "      <td>1</td>\n",
       "      <td>male</td>\n",
       "      <td>63</td>\n",
       "      <td>75</td>\n",
       "      <td>62</td>\n",
       "      <td>79</td>\n",
       "      <td>69</td>\n",
       "      <td>72</td>\n",
       "      <td>77</td>\n",
       "      <td>73</td>\n",
       "      <td>64</td>\n",
       "    </tr>\n",
       "    <tr>\n",
       "      <th>8</th>\n",
       "      <td>70</td>\n",
       "      <td>73</td>\n",
       "      <td>77</td>\n",
       "      <td>66</td>\n",
       "      <td>2022</td>\n",
       "      <td>1</td>\n",
       "      <td>male</td>\n",
       "      <td>63</td>\n",
       "      <td>75</td>\n",
       "      <td>62</td>\n",
       "      <td>79</td>\n",
       "      <td>69</td>\n",
       "      <td>72</td>\n",
       "      <td>77</td>\n",
       "      <td>73</td>\n",
       "      <td>64</td>\n",
       "    </tr>\n",
       "    <tr>\n",
       "      <th>9</th>\n",
       "      <td>63</td>\n",
       "      <td>66</td>\n",
       "      <td>73</td>\n",
       "      <td>68</td>\n",
       "      <td>2024</td>\n",
       "      <td>1</td>\n",
       "      <td>female</td>\n",
       "      <td>63</td>\n",
       "      <td>75</td>\n",
       "      <td>62</td>\n",
       "      <td>79</td>\n",
       "      <td>69</td>\n",
       "      <td>72</td>\n",
       "      <td>77</td>\n",
       "      <td>73</td>\n",
       "      <td>64</td>\n",
       "    </tr>\n",
       "    <tr>\n",
       "      <th>10</th>\n",
       "      <td>66</td>\n",
       "      <td>71</td>\n",
       "      <td>75</td>\n",
       "      <td>80</td>\n",
       "      <td>2022</td>\n",
       "      <td>2</td>\n",
       "      <td>female</td>\n",
       "      <td>63</td>\n",
       "      <td>75</td>\n",
       "      <td>62</td>\n",
       "      <td>79</td>\n",
       "      <td>69</td>\n",
       "      <td>72</td>\n",
       "      <td>77</td>\n",
       "      <td>73</td>\n",
       "      <td>64</td>\n",
       "    </tr>\n",
       "    <tr>\n",
       "      <th>11</th>\n",
       "      <td>62</td>\n",
       "      <td>74</td>\n",
       "      <td>79</td>\n",
       "      <td>64</td>\n",
       "      <td>2024</td>\n",
       "      <td>1</td>\n",
       "      <td>male</td>\n",
       "      <td>63</td>\n",
       "      <td>75</td>\n",
       "      <td>62</td>\n",
       "      <td>79</td>\n",
       "      <td>69</td>\n",
       "      <td>72</td>\n",
       "      <td>77</td>\n",
       "      <td>73</td>\n",
       "      <td>64</td>\n",
       "    </tr>\n",
       "    <tr>\n",
       "      <th>12</th>\n",
       "      <td>79</td>\n",
       "      <td>69</td>\n",
       "      <td>73</td>\n",
       "      <td>79</td>\n",
       "      <td>2019</td>\n",
       "      <td>2</td>\n",
       "      <td>male</td>\n",
       "      <td>63</td>\n",
       "      <td>75</td>\n",
       "      <td>62</td>\n",
       "      <td>79</td>\n",
       "      <td>69</td>\n",
       "      <td>72</td>\n",
       "      <td>77</td>\n",
       "      <td>73</td>\n",
       "      <td>64</td>\n",
       "    </tr>\n",
       "    <tr>\n",
       "      <th>13</th>\n",
       "      <td>65</td>\n",
       "      <td>61</td>\n",
       "      <td>64</td>\n",
       "      <td>62</td>\n",
       "      <td>2022</td>\n",
       "      <td>1</td>\n",
       "      <td>male</td>\n",
       "      <td>63</td>\n",
       "      <td>75</td>\n",
       "      <td>62</td>\n",
       "      <td>79</td>\n",
       "      <td>69</td>\n",
       "      <td>72</td>\n",
       "      <td>77</td>\n",
       "      <td>73</td>\n",
       "      <td>64</td>\n",
       "    </tr>\n",
       "  </tbody>\n",
       "</table>\n",
       "</div>"
      ],
      "text/plain": [
       "    math score  reading score   writing score  placement score  \\\n",
       "0           79              66             63               72   \n",
       "1           61              60             75               75   \n",
       "2           76              75             62               69   \n",
       "3           73              63             79               64   \n",
       "4           61              78             69               66   \n",
       "5           62              77             72               73   \n",
       "6           80              60             79               72   \n",
       "7           68              60             77               72   \n",
       "8           70              73             77               66   \n",
       "9           63              66             73               68   \n",
       "10          66              71             75               80   \n",
       "11          62              74             79               64   \n",
       "12          79              69             73               79   \n",
       "13          65              61             64               62   \n",
       "\n",
       "    club join year  placement offer count  gender  63  75  62  79  69  72  77  \\\n",
       "0             2018                      1  female  63  75  62  79  69  72  77   \n",
       "1             2022                      2  female  63  75  62  79  69  72  77   \n",
       "2             2020                      1  female  63  75  62  79  69  72  77   \n",
       "3             2019                      1    male  63  75  62  79  69  72  77   \n",
       "4             2022                      1    male  63  75  62  79  69  72  77   \n",
       "5             2019                      1  female  63  75  62  79  69  72  77   \n",
       "6             2020                      1    male  63  75  62  79  69  72  77   \n",
       "7             2020                      1    male  63  75  62  79  69  72  77   \n",
       "8             2022                      1    male  63  75  62  79  69  72  77   \n",
       "9             2024                      1  female  63  75  62  79  69  72  77   \n",
       "10            2022                      2  female  63  75  62  79  69  72  77   \n",
       "11            2024                      1    male  63  75  62  79  69  72  77   \n",
       "12            2019                      2    male  63  75  62  79  69  72  77   \n",
       "13            2022                      1    male  63  75  62  79  69  72  77   \n",
       "\n",
       "    73  64  \n",
       "0   73  64  \n",
       "1   73  64  \n",
       "2   73  64  \n",
       "3   73  64  \n",
       "4   73  64  \n",
       "5   73  64  \n",
       "6   73  64  \n",
       "7   73  64  \n",
       "8   73  64  \n",
       "9   73  64  \n",
       "10  73  64  \n",
       "11  73  64  \n",
       "12  73  64  \n",
       "13  73  64  "
      ]
     },
     "execution_count": 38,
     "metadata": {},
     "output_type": "execute_result"
    }
   ],
   "source": [
    "#To drop rows with at least 1 null value\n",
    "df3.dropna()"
   ]
  },
  {
   "cell_type": "code",
   "execution_count": 39,
   "metadata": {
    "colab": {
     "base_uri": "https://localhost:8080/",
     "height": 532
    },
    "id": "r6gaJaGt-9hu",
    "outputId": "6793bcc9-fbb5-4265-cd94-90aa59f44b0d"
   },
   "outputs": [
    {
     "data": {
      "text/html": [
       "<div>\n",
       "<style scoped>\n",
       "    .dataframe tbody tr th:only-of-type {\n",
       "        vertical-align: middle;\n",
       "    }\n",
       "\n",
       "    .dataframe tbody tr th {\n",
       "        vertical-align: top;\n",
       "    }\n",
       "\n",
       "    .dataframe thead th {\n",
       "        text-align: right;\n",
       "    }\n",
       "</style>\n",
       "<table border=\"1\" class=\"dataframe\">\n",
       "  <thead>\n",
       "    <tr style=\"text-align: right;\">\n",
       "      <th></th>\n",
       "      <th>math score</th>\n",
       "      <th>reading score</th>\n",
       "      <th>writing score</th>\n",
       "      <th>placement score</th>\n",
       "      <th>club join year</th>\n",
       "      <th>placement offer count</th>\n",
       "      <th>gender</th>\n",
       "      <th>63</th>\n",
       "      <th>75</th>\n",
       "      <th>62</th>\n",
       "      <th>79</th>\n",
       "      <th>69</th>\n",
       "      <th>72</th>\n",
       "      <th>77</th>\n",
       "      <th>73</th>\n",
       "      <th>64</th>\n",
       "    </tr>\n",
       "  </thead>\n",
       "  <tbody>\n",
       "    <tr>\n",
       "      <th>0</th>\n",
       "      <td>79</td>\n",
       "      <td>66</td>\n",
       "      <td>63</td>\n",
       "      <td>72</td>\n",
       "      <td>2018</td>\n",
       "      <td>1</td>\n",
       "      <td>female</td>\n",
       "      <td>63</td>\n",
       "      <td>75</td>\n",
       "      <td>62</td>\n",
       "      <td>79</td>\n",
       "      <td>69</td>\n",
       "      <td>72</td>\n",
       "      <td>77</td>\n",
       "      <td>73</td>\n",
       "      <td>64</td>\n",
       "    </tr>\n",
       "    <tr>\n",
       "      <th>1</th>\n",
       "      <td>61</td>\n",
       "      <td>60</td>\n",
       "      <td>75</td>\n",
       "      <td>75</td>\n",
       "      <td>2022</td>\n",
       "      <td>2</td>\n",
       "      <td>female</td>\n",
       "      <td>63</td>\n",
       "      <td>75</td>\n",
       "      <td>62</td>\n",
       "      <td>79</td>\n",
       "      <td>69</td>\n",
       "      <td>72</td>\n",
       "      <td>77</td>\n",
       "      <td>73</td>\n",
       "      <td>64</td>\n",
       "    </tr>\n",
       "    <tr>\n",
       "      <th>2</th>\n",
       "      <td>76</td>\n",
       "      <td>75</td>\n",
       "      <td>62</td>\n",
       "      <td>69</td>\n",
       "      <td>2020</td>\n",
       "      <td>1</td>\n",
       "      <td>female</td>\n",
       "      <td>63</td>\n",
       "      <td>75</td>\n",
       "      <td>62</td>\n",
       "      <td>79</td>\n",
       "      <td>69</td>\n",
       "      <td>72</td>\n",
       "      <td>77</td>\n",
       "      <td>73</td>\n",
       "      <td>64</td>\n",
       "    </tr>\n",
       "    <tr>\n",
       "      <th>3</th>\n",
       "      <td>73</td>\n",
       "      <td>63</td>\n",
       "      <td>79</td>\n",
       "      <td>64</td>\n",
       "      <td>2019</td>\n",
       "      <td>1</td>\n",
       "      <td>male</td>\n",
       "      <td>63</td>\n",
       "      <td>75</td>\n",
       "      <td>62</td>\n",
       "      <td>79</td>\n",
       "      <td>69</td>\n",
       "      <td>72</td>\n",
       "      <td>77</td>\n",
       "      <td>73</td>\n",
       "      <td>64</td>\n",
       "    </tr>\n",
       "    <tr>\n",
       "      <th>4</th>\n",
       "      <td>61</td>\n",
       "      <td>78</td>\n",
       "      <td>69</td>\n",
       "      <td>66</td>\n",
       "      <td>2022</td>\n",
       "      <td>1</td>\n",
       "      <td>male</td>\n",
       "      <td>63</td>\n",
       "      <td>75</td>\n",
       "      <td>62</td>\n",
       "      <td>79</td>\n",
       "      <td>69</td>\n",
       "      <td>72</td>\n",
       "      <td>77</td>\n",
       "      <td>73</td>\n",
       "      <td>64</td>\n",
       "    </tr>\n",
       "    <tr>\n",
       "      <th>5</th>\n",
       "      <td>62</td>\n",
       "      <td>77</td>\n",
       "      <td>72</td>\n",
       "      <td>73</td>\n",
       "      <td>2019</td>\n",
       "      <td>1</td>\n",
       "      <td>female</td>\n",
       "      <td>63</td>\n",
       "      <td>75</td>\n",
       "      <td>62</td>\n",
       "      <td>79</td>\n",
       "      <td>69</td>\n",
       "      <td>72</td>\n",
       "      <td>77</td>\n",
       "      <td>73</td>\n",
       "      <td>64</td>\n",
       "    </tr>\n",
       "    <tr>\n",
       "      <th>6</th>\n",
       "      <td>80</td>\n",
       "      <td>60</td>\n",
       "      <td>79</td>\n",
       "      <td>72</td>\n",
       "      <td>2020</td>\n",
       "      <td>1</td>\n",
       "      <td>male</td>\n",
       "      <td>63</td>\n",
       "      <td>75</td>\n",
       "      <td>62</td>\n",
       "      <td>79</td>\n",
       "      <td>69</td>\n",
       "      <td>72</td>\n",
       "      <td>77</td>\n",
       "      <td>73</td>\n",
       "      <td>64</td>\n",
       "    </tr>\n",
       "    <tr>\n",
       "      <th>7</th>\n",
       "      <td>68</td>\n",
       "      <td>60</td>\n",
       "      <td>77</td>\n",
       "      <td>72</td>\n",
       "      <td>2020</td>\n",
       "      <td>1</td>\n",
       "      <td>male</td>\n",
       "      <td>63</td>\n",
       "      <td>75</td>\n",
       "      <td>62</td>\n",
       "      <td>79</td>\n",
       "      <td>69</td>\n",
       "      <td>72</td>\n",
       "      <td>77</td>\n",
       "      <td>73</td>\n",
       "      <td>64</td>\n",
       "    </tr>\n",
       "    <tr>\n",
       "      <th>8</th>\n",
       "      <td>70</td>\n",
       "      <td>73</td>\n",
       "      <td>77</td>\n",
       "      <td>66</td>\n",
       "      <td>2022</td>\n",
       "      <td>1</td>\n",
       "      <td>male</td>\n",
       "      <td>63</td>\n",
       "      <td>75</td>\n",
       "      <td>62</td>\n",
       "      <td>79</td>\n",
       "      <td>69</td>\n",
       "      <td>72</td>\n",
       "      <td>77</td>\n",
       "      <td>73</td>\n",
       "      <td>64</td>\n",
       "    </tr>\n",
       "    <tr>\n",
       "      <th>9</th>\n",
       "      <td>63</td>\n",
       "      <td>66</td>\n",
       "      <td>73</td>\n",
       "      <td>68</td>\n",
       "      <td>2024</td>\n",
       "      <td>1</td>\n",
       "      <td>female</td>\n",
       "      <td>63</td>\n",
       "      <td>75</td>\n",
       "      <td>62</td>\n",
       "      <td>79</td>\n",
       "      <td>69</td>\n",
       "      <td>72</td>\n",
       "      <td>77</td>\n",
       "      <td>73</td>\n",
       "      <td>64</td>\n",
       "    </tr>\n",
       "    <tr>\n",
       "      <th>10</th>\n",
       "      <td>66</td>\n",
       "      <td>71</td>\n",
       "      <td>75</td>\n",
       "      <td>80</td>\n",
       "      <td>2022</td>\n",
       "      <td>2</td>\n",
       "      <td>female</td>\n",
       "      <td>63</td>\n",
       "      <td>75</td>\n",
       "      <td>62</td>\n",
       "      <td>79</td>\n",
       "      <td>69</td>\n",
       "      <td>72</td>\n",
       "      <td>77</td>\n",
       "      <td>73</td>\n",
       "      <td>64</td>\n",
       "    </tr>\n",
       "    <tr>\n",
       "      <th>11</th>\n",
       "      <td>62</td>\n",
       "      <td>74</td>\n",
       "      <td>79</td>\n",
       "      <td>64</td>\n",
       "      <td>2024</td>\n",
       "      <td>1</td>\n",
       "      <td>male</td>\n",
       "      <td>63</td>\n",
       "      <td>75</td>\n",
       "      <td>62</td>\n",
       "      <td>79</td>\n",
       "      <td>69</td>\n",
       "      <td>72</td>\n",
       "      <td>77</td>\n",
       "      <td>73</td>\n",
       "      <td>64</td>\n",
       "    </tr>\n",
       "    <tr>\n",
       "      <th>12</th>\n",
       "      <td>79</td>\n",
       "      <td>69</td>\n",
       "      <td>73</td>\n",
       "      <td>79</td>\n",
       "      <td>2019</td>\n",
       "      <td>2</td>\n",
       "      <td>male</td>\n",
       "      <td>63</td>\n",
       "      <td>75</td>\n",
       "      <td>62</td>\n",
       "      <td>79</td>\n",
       "      <td>69</td>\n",
       "      <td>72</td>\n",
       "      <td>77</td>\n",
       "      <td>73</td>\n",
       "      <td>64</td>\n",
       "    </tr>\n",
       "    <tr>\n",
       "      <th>13</th>\n",
       "      <td>65</td>\n",
       "      <td>61</td>\n",
       "      <td>64</td>\n",
       "      <td>62</td>\n",
       "      <td>2022</td>\n",
       "      <td>1</td>\n",
       "      <td>male</td>\n",
       "      <td>63</td>\n",
       "      <td>75</td>\n",
       "      <td>62</td>\n",
       "      <td>79</td>\n",
       "      <td>69</td>\n",
       "      <td>72</td>\n",
       "      <td>77</td>\n",
       "      <td>73</td>\n",
       "      <td>64</td>\n",
       "    </tr>\n",
       "  </tbody>\n",
       "</table>\n",
       "</div>"
      ],
      "text/plain": [
       "    math score  reading score   writing score  placement score  \\\n",
       "0           79              66             63               72   \n",
       "1           61              60             75               75   \n",
       "2           76              75             62               69   \n",
       "3           73              63             79               64   \n",
       "4           61              78             69               66   \n",
       "5           62              77             72               73   \n",
       "6           80              60             79               72   \n",
       "7           68              60             77               72   \n",
       "8           70              73             77               66   \n",
       "9           63              66             73               68   \n",
       "10          66              71             75               80   \n",
       "11          62              74             79               64   \n",
       "12          79              69             73               79   \n",
       "13          65              61             64               62   \n",
       "\n",
       "    club join year  placement offer count  gender  63  75  62  79  69  72  77  \\\n",
       "0             2018                      1  female  63  75  62  79  69  72  77   \n",
       "1             2022                      2  female  63  75  62  79  69  72  77   \n",
       "2             2020                      1  female  63  75  62  79  69  72  77   \n",
       "3             2019                      1    male  63  75  62  79  69  72  77   \n",
       "4             2022                      1    male  63  75  62  79  69  72  77   \n",
       "5             2019                      1  female  63  75  62  79  69  72  77   \n",
       "6             2020                      1    male  63  75  62  79  69  72  77   \n",
       "7             2020                      1    male  63  75  62  79  69  72  77   \n",
       "8             2022                      1    male  63  75  62  79  69  72  77   \n",
       "9             2024                      1  female  63  75  62  79  69  72  77   \n",
       "10            2022                      2  female  63  75  62  79  69  72  77   \n",
       "11            2024                      1    male  63  75  62  79  69  72  77   \n",
       "12            2019                      2    male  63  75  62  79  69  72  77   \n",
       "13            2022                      1    male  63  75  62  79  69  72  77   \n",
       "\n",
       "    73  64  \n",
       "0   73  64  \n",
       "1   73  64  \n",
       "2   73  64  \n",
       "3   73  64  \n",
       "4   73  64  \n",
       "5   73  64  \n",
       "6   73  64  \n",
       "7   73  64  \n",
       "8   73  64  \n",
       "9   73  64  \n",
       "10  73  64  \n",
       "11  73  64  \n",
       "12  73  64  \n",
       "13  73  64  "
      ]
     },
     "execution_count": 39,
     "metadata": {},
     "output_type": "execute_result"
    }
   ],
   "source": [
    "#To drop columns with at least 1 null value\n",
    "df4.dropna(axis = 1)"
   ]
  },
  {
   "cell_type": "code",
   "execution_count": 40,
   "metadata": {
    "id": "rAmDcwyD_KQ4"
   },
   "outputs": [],
   "source": [
    "from sklearn import preprocessing\n",
    "le=preprocessing.LabelEncoder()"
   ]
  },
  {
   "cell_type": "code",
   "execution_count": 41,
   "metadata": {
    "colab": {
     "base_uri": "https://localhost:8080/",
     "height": 532
    },
    "id": "4u9t1-0K_LMl",
    "outputId": "1526f766-c47e-4a5b-91e0-4b555877d6bd"
   },
   "outputs": [
    {
     "data": {
      "text/html": [
       "<div>\n",
       "<style scoped>\n",
       "    .dataframe tbody tr th:only-of-type {\n",
       "        vertical-align: middle;\n",
       "    }\n",
       "\n",
       "    .dataframe tbody tr th {\n",
       "        vertical-align: top;\n",
       "    }\n",
       "\n",
       "    .dataframe thead th {\n",
       "        text-align: right;\n",
       "    }\n",
       "</style>\n",
       "<table border=\"1\" class=\"dataframe\">\n",
       "  <thead>\n",
       "    <tr style=\"text-align: right;\">\n",
       "      <th></th>\n",
       "      <th>math score</th>\n",
       "      <th>reading score</th>\n",
       "      <th>writing score</th>\n",
       "      <th>placement score</th>\n",
       "      <th>club join year</th>\n",
       "      <th>placement offer count</th>\n",
       "      <th>gender</th>\n",
       "      <th>63</th>\n",
       "      <th>75</th>\n",
       "      <th>62</th>\n",
       "      <th>79</th>\n",
       "      <th>69</th>\n",
       "      <th>72</th>\n",
       "      <th>77</th>\n",
       "      <th>73</th>\n",
       "      <th>64</th>\n",
       "    </tr>\n",
       "  </thead>\n",
       "  <tbody>\n",
       "    <tr>\n",
       "      <th>0</th>\n",
       "      <td>79</td>\n",
       "      <td>66</td>\n",
       "      <td>63</td>\n",
       "      <td>72</td>\n",
       "      <td>2018</td>\n",
       "      <td>1</td>\n",
       "      <td>0</td>\n",
       "      <td>63</td>\n",
       "      <td>75</td>\n",
       "      <td>62</td>\n",
       "      <td>79</td>\n",
       "      <td>69</td>\n",
       "      <td>72</td>\n",
       "      <td>77</td>\n",
       "      <td>73</td>\n",
       "      <td>64</td>\n",
       "    </tr>\n",
       "    <tr>\n",
       "      <th>1</th>\n",
       "      <td>61</td>\n",
       "      <td>60</td>\n",
       "      <td>75</td>\n",
       "      <td>75</td>\n",
       "      <td>2022</td>\n",
       "      <td>2</td>\n",
       "      <td>0</td>\n",
       "      <td>63</td>\n",
       "      <td>75</td>\n",
       "      <td>62</td>\n",
       "      <td>79</td>\n",
       "      <td>69</td>\n",
       "      <td>72</td>\n",
       "      <td>77</td>\n",
       "      <td>73</td>\n",
       "      <td>64</td>\n",
       "    </tr>\n",
       "    <tr>\n",
       "      <th>2</th>\n",
       "      <td>76</td>\n",
       "      <td>75</td>\n",
       "      <td>62</td>\n",
       "      <td>69</td>\n",
       "      <td>2020</td>\n",
       "      <td>1</td>\n",
       "      <td>0</td>\n",
       "      <td>63</td>\n",
       "      <td>75</td>\n",
       "      <td>62</td>\n",
       "      <td>79</td>\n",
       "      <td>69</td>\n",
       "      <td>72</td>\n",
       "      <td>77</td>\n",
       "      <td>73</td>\n",
       "      <td>64</td>\n",
       "    </tr>\n",
       "    <tr>\n",
       "      <th>3</th>\n",
       "      <td>73</td>\n",
       "      <td>63</td>\n",
       "      <td>79</td>\n",
       "      <td>64</td>\n",
       "      <td>2019</td>\n",
       "      <td>1</td>\n",
       "      <td>1</td>\n",
       "      <td>63</td>\n",
       "      <td>75</td>\n",
       "      <td>62</td>\n",
       "      <td>79</td>\n",
       "      <td>69</td>\n",
       "      <td>72</td>\n",
       "      <td>77</td>\n",
       "      <td>73</td>\n",
       "      <td>64</td>\n",
       "    </tr>\n",
       "    <tr>\n",
       "      <th>4</th>\n",
       "      <td>61</td>\n",
       "      <td>78</td>\n",
       "      <td>69</td>\n",
       "      <td>66</td>\n",
       "      <td>2022</td>\n",
       "      <td>1</td>\n",
       "      <td>1</td>\n",
       "      <td>63</td>\n",
       "      <td>75</td>\n",
       "      <td>62</td>\n",
       "      <td>79</td>\n",
       "      <td>69</td>\n",
       "      <td>72</td>\n",
       "      <td>77</td>\n",
       "      <td>73</td>\n",
       "      <td>64</td>\n",
       "    </tr>\n",
       "    <tr>\n",
       "      <th>5</th>\n",
       "      <td>62</td>\n",
       "      <td>77</td>\n",
       "      <td>72</td>\n",
       "      <td>73</td>\n",
       "      <td>2019</td>\n",
       "      <td>1</td>\n",
       "      <td>0</td>\n",
       "      <td>63</td>\n",
       "      <td>75</td>\n",
       "      <td>62</td>\n",
       "      <td>79</td>\n",
       "      <td>69</td>\n",
       "      <td>72</td>\n",
       "      <td>77</td>\n",
       "      <td>73</td>\n",
       "      <td>64</td>\n",
       "    </tr>\n",
       "    <tr>\n",
       "      <th>6</th>\n",
       "      <td>80</td>\n",
       "      <td>60</td>\n",
       "      <td>79</td>\n",
       "      <td>72</td>\n",
       "      <td>2020</td>\n",
       "      <td>1</td>\n",
       "      <td>1</td>\n",
       "      <td>63</td>\n",
       "      <td>75</td>\n",
       "      <td>62</td>\n",
       "      <td>79</td>\n",
       "      <td>69</td>\n",
       "      <td>72</td>\n",
       "      <td>77</td>\n",
       "      <td>73</td>\n",
       "      <td>64</td>\n",
       "    </tr>\n",
       "    <tr>\n",
       "      <th>7</th>\n",
       "      <td>68</td>\n",
       "      <td>60</td>\n",
       "      <td>77</td>\n",
       "      <td>72</td>\n",
       "      <td>2020</td>\n",
       "      <td>1</td>\n",
       "      <td>1</td>\n",
       "      <td>63</td>\n",
       "      <td>75</td>\n",
       "      <td>62</td>\n",
       "      <td>79</td>\n",
       "      <td>69</td>\n",
       "      <td>72</td>\n",
       "      <td>77</td>\n",
       "      <td>73</td>\n",
       "      <td>64</td>\n",
       "    </tr>\n",
       "    <tr>\n",
       "      <th>8</th>\n",
       "      <td>70</td>\n",
       "      <td>73</td>\n",
       "      <td>77</td>\n",
       "      <td>66</td>\n",
       "      <td>2022</td>\n",
       "      <td>1</td>\n",
       "      <td>1</td>\n",
       "      <td>63</td>\n",
       "      <td>75</td>\n",
       "      <td>62</td>\n",
       "      <td>79</td>\n",
       "      <td>69</td>\n",
       "      <td>72</td>\n",
       "      <td>77</td>\n",
       "      <td>73</td>\n",
       "      <td>64</td>\n",
       "    </tr>\n",
       "    <tr>\n",
       "      <th>9</th>\n",
       "      <td>63</td>\n",
       "      <td>66</td>\n",
       "      <td>73</td>\n",
       "      <td>68</td>\n",
       "      <td>2024</td>\n",
       "      <td>1</td>\n",
       "      <td>0</td>\n",
       "      <td>63</td>\n",
       "      <td>75</td>\n",
       "      <td>62</td>\n",
       "      <td>79</td>\n",
       "      <td>69</td>\n",
       "      <td>72</td>\n",
       "      <td>77</td>\n",
       "      <td>73</td>\n",
       "      <td>64</td>\n",
       "    </tr>\n",
       "    <tr>\n",
       "      <th>10</th>\n",
       "      <td>66</td>\n",
       "      <td>71</td>\n",
       "      <td>75</td>\n",
       "      <td>80</td>\n",
       "      <td>2022</td>\n",
       "      <td>2</td>\n",
       "      <td>0</td>\n",
       "      <td>63</td>\n",
       "      <td>75</td>\n",
       "      <td>62</td>\n",
       "      <td>79</td>\n",
       "      <td>69</td>\n",
       "      <td>72</td>\n",
       "      <td>77</td>\n",
       "      <td>73</td>\n",
       "      <td>64</td>\n",
       "    </tr>\n",
       "    <tr>\n",
       "      <th>11</th>\n",
       "      <td>62</td>\n",
       "      <td>74</td>\n",
       "      <td>79</td>\n",
       "      <td>64</td>\n",
       "      <td>2024</td>\n",
       "      <td>1</td>\n",
       "      <td>1</td>\n",
       "      <td>63</td>\n",
       "      <td>75</td>\n",
       "      <td>62</td>\n",
       "      <td>79</td>\n",
       "      <td>69</td>\n",
       "      <td>72</td>\n",
       "      <td>77</td>\n",
       "      <td>73</td>\n",
       "      <td>64</td>\n",
       "    </tr>\n",
       "    <tr>\n",
       "      <th>12</th>\n",
       "      <td>79</td>\n",
       "      <td>69</td>\n",
       "      <td>73</td>\n",
       "      <td>79</td>\n",
       "      <td>2019</td>\n",
       "      <td>2</td>\n",
       "      <td>1</td>\n",
       "      <td>63</td>\n",
       "      <td>75</td>\n",
       "      <td>62</td>\n",
       "      <td>79</td>\n",
       "      <td>69</td>\n",
       "      <td>72</td>\n",
       "      <td>77</td>\n",
       "      <td>73</td>\n",
       "      <td>64</td>\n",
       "    </tr>\n",
       "    <tr>\n",
       "      <th>13</th>\n",
       "      <td>65</td>\n",
       "      <td>61</td>\n",
       "      <td>64</td>\n",
       "      <td>62</td>\n",
       "      <td>2022</td>\n",
       "      <td>1</td>\n",
       "      <td>1</td>\n",
       "      <td>63</td>\n",
       "      <td>75</td>\n",
       "      <td>62</td>\n",
       "      <td>79</td>\n",
       "      <td>69</td>\n",
       "      <td>72</td>\n",
       "      <td>77</td>\n",
       "      <td>73</td>\n",
       "      <td>64</td>\n",
       "    </tr>\n",
       "  </tbody>\n",
       "</table>\n",
       "</div>"
      ],
      "text/plain": [
       "    math score  reading score   writing score  placement score  \\\n",
       "0           79              66             63               72   \n",
       "1           61              60             75               75   \n",
       "2           76              75             62               69   \n",
       "3           73              63             79               64   \n",
       "4           61              78             69               66   \n",
       "5           62              77             72               73   \n",
       "6           80              60             79               72   \n",
       "7           68              60             77               72   \n",
       "8           70              73             77               66   \n",
       "9           63              66             73               68   \n",
       "10          66              71             75               80   \n",
       "11          62              74             79               64   \n",
       "12          79              69             73               79   \n",
       "13          65              61             64               62   \n",
       "\n",
       "    club join year  placement offer count   gender  63  75  62  79  69  72  \\\n",
       "0             2018                      1        0  63  75  62  79  69  72   \n",
       "1             2022                      2        0  63  75  62  79  69  72   \n",
       "2             2020                      1        0  63  75  62  79  69  72   \n",
       "3             2019                      1        1  63  75  62  79  69  72   \n",
       "4             2022                      1        1  63  75  62  79  69  72   \n",
       "5             2019                      1        0  63  75  62  79  69  72   \n",
       "6             2020                      1        1  63  75  62  79  69  72   \n",
       "7             2020                      1        1  63  75  62  79  69  72   \n",
       "8             2022                      1        1  63  75  62  79  69  72   \n",
       "9             2024                      1        0  63  75  62  79  69  72   \n",
       "10            2022                      2        0  63  75  62  79  69  72   \n",
       "11            2024                      1        1  63  75  62  79  69  72   \n",
       "12            2019                      2        1  63  75  62  79  69  72   \n",
       "13            2022                      1        1  63  75  62  79  69  72   \n",
       "\n",
       "    77  73  64  \n",
       "0   77  73  64  \n",
       "1   77  73  64  \n",
       "2   77  73  64  \n",
       "3   77  73  64  \n",
       "4   77  73  64  \n",
       "5   77  73  64  \n",
       "6   77  73  64  \n",
       "7   77  73  64  \n",
       "8   77  73  64  \n",
       "9   77  73  64  \n",
       "10  77  73  64  \n",
       "11  77  73  64  \n",
       "12  77  73  64  \n",
       "13  77  73  64  "
      ]
     },
     "execution_count": 41,
     "metadata": {},
     "output_type": "execute_result"
    }
   ],
   "source": [
    "df[' gender']=le.fit_transform(df[' gender'])\n",
    "df"
   ]
  },
  {
   "cell_type": "code",
   "execution_count": 42,
   "metadata": {
    "colab": {
     "base_uri": "https://localhost:8080/"
    },
    "id": "fjWpBg_s_i3F",
    "outputId": "5ea031d7-6b56-4df2-95c4-75addb62fa51"
   },
   "outputs": [
    {
     "data": {
      "text/plain": [
       "Index([           'math score',        'reading score ',\n",
       "               'writing score',       'placement score',\n",
       "              'club join year', 'placement offer count',\n",
       "                     ' gender',                      63,\n",
       "                            75,                      62,\n",
       "                            79,                      69,\n",
       "                            72,                      77,\n",
       "                            73,                      64],\n",
       "      dtype='object')"
      ]
     },
     "execution_count": 42,
     "metadata": {},
     "output_type": "execute_result"
    }
   ],
   "source": [
    "df.columns"
   ]
  },
  {
   "cell_type": "code",
   "execution_count": 43,
   "metadata": {
    "colab": {
     "base_uri": "https://localhost:8080/"
    },
    "id": "18X-88b__mtk",
    "outputId": "9cd891d6-ddec-4071-bb4e-f234224cb587"
   },
   "outputs": [
    {
     "data": {
      "text/plain": [
       "math score               0\n",
       "reading score            0\n",
       "writing score            0\n",
       "placement score          0\n",
       "club join year           0\n",
       "placement offer count    0\n",
       " gender                  0\n",
       "63                       0\n",
       "75                       0\n",
       "62                       0\n",
       "79                       0\n",
       "69                       0\n",
       "72                       0\n",
       "77                       0\n",
       "73                       0\n",
       "64                       0\n",
       "dtype: int64"
      ]
     },
     "execution_count": 43,
     "metadata": {},
     "output_type": "execute_result"
    }
   ],
   "source": [
    "df.isnull().sum()\n"
   ]
  },
  {
   "cell_type": "code",
   "execution_count": 44,
   "metadata": {
    "colab": {
     "base_uri": "https://localhost:8080/",
     "height": 361
    },
    "id": "iGPldlbX_r6p",
    "outputId": "d5483e9d-1701-4371-a91e-87842f0bfa67"
   },
   "outputs": [
    {
     "data": {
      "text/html": [
       "<div>\n",
       "<style scoped>\n",
       "    .dataframe tbody tr th:only-of-type {\n",
       "        vertical-align: middle;\n",
       "    }\n",
       "\n",
       "    .dataframe tbody tr th {\n",
       "        vertical-align: top;\n",
       "    }\n",
       "\n",
       "    .dataframe thead th {\n",
       "        text-align: right;\n",
       "    }\n",
       "</style>\n",
       "<table border=\"1\" class=\"dataframe\">\n",
       "  <thead>\n",
       "    <tr style=\"text-align: right;\">\n",
       "      <th></th>\n",
       "      <th>math score</th>\n",
       "      <th>reading score</th>\n",
       "      <th>writing score</th>\n",
       "      <th>placement score</th>\n",
       "      <th>club join year</th>\n",
       "      <th>placement offer count</th>\n",
       "      <th>gender</th>\n",
       "      <th>63</th>\n",
       "      <th>75</th>\n",
       "      <th>62</th>\n",
       "      <th>79</th>\n",
       "      <th>69</th>\n",
       "      <th>72</th>\n",
       "      <th>77</th>\n",
       "      <th>73</th>\n",
       "      <th>64</th>\n",
       "    </tr>\n",
       "  </thead>\n",
       "  <tbody>\n",
       "    <tr>\n",
       "      <th>count</th>\n",
       "      <td>14.000000</td>\n",
       "      <td>14.000000</td>\n",
       "      <td>14.000000</td>\n",
       "      <td>14.000000</td>\n",
       "      <td>14.000000</td>\n",
       "      <td>14.000000</td>\n",
       "      <td>14.000000</td>\n",
       "      <td>14.0</td>\n",
       "      <td>14.0</td>\n",
       "      <td>14.0</td>\n",
       "      <td>14.0</td>\n",
       "      <td>14.0</td>\n",
       "      <td>14.0</td>\n",
       "      <td>14.0</td>\n",
       "      <td>14.0</td>\n",
       "      <td>14.0</td>\n",
       "    </tr>\n",
       "    <tr>\n",
       "      <th>mean</th>\n",
       "      <td>68.928571</td>\n",
       "      <td>68.071429</td>\n",
       "      <td>72.642857</td>\n",
       "      <td>70.142857</td>\n",
       "      <td>2020.928571</td>\n",
       "      <td>1.214286</td>\n",
       "      <td>0.571429</td>\n",
       "      <td>63.0</td>\n",
       "      <td>75.0</td>\n",
       "      <td>62.0</td>\n",
       "      <td>79.0</td>\n",
       "      <td>69.0</td>\n",
       "      <td>72.0</td>\n",
       "      <td>77.0</td>\n",
       "      <td>73.0</td>\n",
       "      <td>64.0</td>\n",
       "    </tr>\n",
       "    <tr>\n",
       "      <th>std</th>\n",
       "      <td>7.205386</td>\n",
       "      <td>6.650209</td>\n",
       "      <td>5.982116</td>\n",
       "      <td>5.545021</td>\n",
       "      <td>1.899971</td>\n",
       "      <td>0.425815</td>\n",
       "      <td>0.513553</td>\n",
       "      <td>0.0</td>\n",
       "      <td>0.0</td>\n",
       "      <td>0.0</td>\n",
       "      <td>0.0</td>\n",
       "      <td>0.0</td>\n",
       "      <td>0.0</td>\n",
       "      <td>0.0</td>\n",
       "      <td>0.0</td>\n",
       "      <td>0.0</td>\n",
       "    </tr>\n",
       "    <tr>\n",
       "      <th>min</th>\n",
       "      <td>61.000000</td>\n",
       "      <td>60.000000</td>\n",
       "      <td>62.000000</td>\n",
       "      <td>62.000000</td>\n",
       "      <td>2018.000000</td>\n",
       "      <td>1.000000</td>\n",
       "      <td>0.000000</td>\n",
       "      <td>63.0</td>\n",
       "      <td>75.0</td>\n",
       "      <td>62.0</td>\n",
       "      <td>79.0</td>\n",
       "      <td>69.0</td>\n",
       "      <td>72.0</td>\n",
       "      <td>77.0</td>\n",
       "      <td>73.0</td>\n",
       "      <td>64.0</td>\n",
       "    </tr>\n",
       "    <tr>\n",
       "      <th>25%</th>\n",
       "      <td>62.250000</td>\n",
       "      <td>61.500000</td>\n",
       "      <td>69.750000</td>\n",
       "      <td>66.000000</td>\n",
       "      <td>2019.250000</td>\n",
       "      <td>1.000000</td>\n",
       "      <td>0.000000</td>\n",
       "      <td>63.0</td>\n",
       "      <td>75.0</td>\n",
       "      <td>62.0</td>\n",
       "      <td>79.0</td>\n",
       "      <td>69.0</td>\n",
       "      <td>72.0</td>\n",
       "      <td>77.0</td>\n",
       "      <td>73.0</td>\n",
       "      <td>64.0</td>\n",
       "    </tr>\n",
       "    <tr>\n",
       "      <th>50%</th>\n",
       "      <td>67.000000</td>\n",
       "      <td>67.500000</td>\n",
       "      <td>74.000000</td>\n",
       "      <td>70.500000</td>\n",
       "      <td>2021.000000</td>\n",
       "      <td>1.000000</td>\n",
       "      <td>1.000000</td>\n",
       "      <td>63.0</td>\n",
       "      <td>75.0</td>\n",
       "      <td>62.0</td>\n",
       "      <td>79.0</td>\n",
       "      <td>69.0</td>\n",
       "      <td>72.0</td>\n",
       "      <td>77.0</td>\n",
       "      <td>73.0</td>\n",
       "      <td>64.0</td>\n",
       "    </tr>\n",
       "    <tr>\n",
       "      <th>75%</th>\n",
       "      <td>75.250000</td>\n",
       "      <td>73.750000</td>\n",
       "      <td>77.000000</td>\n",
       "      <td>72.750000</td>\n",
       "      <td>2022.000000</td>\n",
       "      <td>1.000000</td>\n",
       "      <td>1.000000</td>\n",
       "      <td>63.0</td>\n",
       "      <td>75.0</td>\n",
       "      <td>62.0</td>\n",
       "      <td>79.0</td>\n",
       "      <td>69.0</td>\n",
       "      <td>72.0</td>\n",
       "      <td>77.0</td>\n",
       "      <td>73.0</td>\n",
       "      <td>64.0</td>\n",
       "    </tr>\n",
       "    <tr>\n",
       "      <th>max</th>\n",
       "      <td>80.000000</td>\n",
       "      <td>78.000000</td>\n",
       "      <td>79.000000</td>\n",
       "      <td>80.000000</td>\n",
       "      <td>2024.000000</td>\n",
       "      <td>2.000000</td>\n",
       "      <td>1.000000</td>\n",
       "      <td>63.0</td>\n",
       "      <td>75.0</td>\n",
       "      <td>62.0</td>\n",
       "      <td>79.0</td>\n",
       "      <td>69.0</td>\n",
       "      <td>72.0</td>\n",
       "      <td>77.0</td>\n",
       "      <td>73.0</td>\n",
       "      <td>64.0</td>\n",
       "    </tr>\n",
       "  </tbody>\n",
       "</table>\n",
       "</div>"
      ],
      "text/plain": [
       "       math score  reading score   writing score  placement score  \\\n",
       "count   14.000000       14.000000      14.000000        14.000000   \n",
       "mean    68.928571       68.071429      72.642857        70.142857   \n",
       "std      7.205386        6.650209       5.982116         5.545021   \n",
       "min     61.000000       60.000000      62.000000        62.000000   \n",
       "25%     62.250000       61.500000      69.750000        66.000000   \n",
       "50%     67.000000       67.500000      74.000000        70.500000   \n",
       "75%     75.250000       73.750000      77.000000        72.750000   \n",
       "max     80.000000       78.000000      79.000000        80.000000   \n",
       "\n",
       "       club join year  placement offer count     gender    63    75    62  \\\n",
       "count       14.000000              14.000000  14.000000  14.0  14.0  14.0   \n",
       "mean      2020.928571               1.214286   0.571429  63.0  75.0  62.0   \n",
       "std          1.899971               0.425815   0.513553   0.0   0.0   0.0   \n",
       "min       2018.000000               1.000000   0.000000  63.0  75.0  62.0   \n",
       "25%       2019.250000               1.000000   0.000000  63.0  75.0  62.0   \n",
       "50%       2021.000000               1.000000   1.000000  63.0  75.0  62.0   \n",
       "75%       2022.000000               1.000000   1.000000  63.0  75.0  62.0   \n",
       "max       2024.000000               2.000000   1.000000  63.0  75.0  62.0   \n",
       "\n",
       "         79    69    72    77    73    64  \n",
       "count  14.0  14.0  14.0  14.0  14.0  14.0  \n",
       "mean   79.0  69.0  72.0  77.0  73.0  64.0  \n",
       "std     0.0   0.0   0.0   0.0   0.0   0.0  \n",
       "min    79.0  69.0  72.0  77.0  73.0  64.0  \n",
       "25%    79.0  69.0  72.0  77.0  73.0  64.0  \n",
       "50%    79.0  69.0  72.0  77.0  73.0  64.0  \n",
       "75%    79.0  69.0  72.0  77.0  73.0  64.0  \n",
       "max    79.0  69.0  72.0  77.0  73.0  64.0  "
      ]
     },
     "execution_count": 44,
     "metadata": {},
     "output_type": "execute_result"
    }
   ],
   "source": [
    "df.describe()"
   ]
  },
  {
   "cell_type": "code",
   "execution_count": 45,
   "metadata": {
    "colab": {
     "base_uri": "https://localhost:8080/"
    },
    "id": "6HXIA-1-_y-X",
    "outputId": "90025cf8-8df7-428d-d004-864458b25579"
   },
   "outputs": [
    {
     "data": {
      "text/plain": [
       "0     0\n",
       "1     0\n",
       "2     0\n",
       "3     1\n",
       "4     1\n",
       "5     0\n",
       "6     1\n",
       "7     1\n",
       "8     1\n",
       "9     0\n",
       "10    0\n",
       "11    1\n",
       "12    1\n",
       "13    1\n",
       "Name:  gender, dtype: int32"
      ]
     },
     "execution_count": 45,
     "metadata": {},
     "output_type": "execute_result"
    }
   ],
   "source": [
    "df[' gender']"
   ]
  },
  {
   "cell_type": "code",
   "execution_count": 46,
   "metadata": {
    "colab": {
     "base_uri": "https://localhost:8080/"
    },
    "id": "Mr0JEBNC_37N",
    "outputId": "2f06c2c8-f575-4566-bdc3-787745fa2240"
   },
   "outputs": [
    {
     "data": {
      "text/plain": [
       "[]"
      ]
     },
     "execution_count": 46,
     "metadata": {},
     "output_type": "execute_result"
    }
   ],
   "source": [
    "df[df[' gender'].isnull()].index.tolist()"
   ]
  },
  {
   "cell_type": "code",
   "execution_count": 47,
   "metadata": {
    "colab": {
     "base_uri": "https://localhost:8080/"
    },
    "id": "8WXP5jor_7ho",
    "outputId": "16f7ab7b-a402-489f-94d6-1652c39e7225"
   },
   "outputs": [
    {
     "data": {
      "text/plain": [
       "14"
      ]
     },
     "execution_count": 47,
     "metadata": {},
     "output_type": "execute_result"
    }
   ],
   "source": [
    "df[' gender'].notnull().sum()"
   ]
  },
  {
   "cell_type": "markdown",
   "metadata": {
    "id": "3kfLWsmGAFEa"
   },
   "source": [
    "**handling outliers**"
   ]
  },
  {
   "cell_type": "code",
   "execution_count": 48,
   "metadata": {
    "colab": {
     "base_uri": "https://localhost:8080/"
    },
    "id": "LmtQesotAJv7",
    "outputId": "0ef5b2ba-4b8d-4640-c2c2-55509faad837"
   },
   "outputs": [
    {
     "data": {
      "text/plain": [
       "Index([           'math score',        'reading score ',\n",
       "               'writing score',       'placement score',\n",
       "              'club join year', 'placement offer count',\n",
       "                     ' gender',                      63,\n",
       "                            75,                      62,\n",
       "                            79,                      69,\n",
       "                            72,                      77,\n",
       "                            73,                      64],\n",
       "      dtype='object')"
      ]
     },
     "execution_count": 48,
     "metadata": {},
     "output_type": "execute_result"
    }
   ],
   "source": [
    "df.columns"
   ]
  },
  {
   "cell_type": "code",
   "execution_count": 49,
   "metadata": {
    "id": "a08p3mUAAP21"
   },
   "outputs": [],
   "source": [
    "col=[' gender','math score','reading score ','writing score','placement score','placement offer count']"
   ]
  },
  {
   "cell_type": "code",
   "execution_count": 50,
   "metadata": {
    "id": "rhJU7J00AT4p"
   },
   "outputs": [],
   "source": [
    "import matplotlib.pyplot as plt\n",
    "%matplotlib inline"
   ]
  },
  {
   "cell_type": "code",
   "execution_count": 51,
   "metadata": {
    "id": "OCTqRWkwAVXc"
   },
   "outputs": [],
   "source": [
    "import matplotlib.pyplot as plt\n",
    "%matplotlib inline"
   ]
  },
  {
   "cell_type": "code",
   "execution_count": 52,
   "metadata": {
    "colab": {
     "base_uri": "https://localhost:8080/",
     "height": 445
    },
    "id": "-e--HJ1nAVaI",
    "outputId": "5c1e088a-fbdd-4e9c-adc2-dc761b9694eb"
   },
   "outputs": [
    {
     "data": {
      "text/plain": [
       "<AxesSubplot:>"
      ]
     },
     "execution_count": 52,
     "metadata": {},
     "output_type": "execute_result"
    },
    {
     "data": {
      "image/png": "[encoded data removed]",
      "text/plain": [
       "<Figure size 1000x700 with 1 Axes>"
      ]
     },
     "metadata": {},
     "output_type": "display_data"
    }
   ],
   "source": [
    "plt.figure(figsize=(10,7))\n",
    "df.boxplot(col)"
   ]
  },
  {
   "cell_type": "code",
   "execution_count": 53,
   "metadata": {
    "colab": {
     "base_uri": "https://localhost:8080/",
     "height": 1000
    },
    "id": "RyXFkwqxAVcp",
    "outputId": "87637e2d-4877-4edb-ae87-f365caf6cfaf"
   },
   "outputs": [
    {
     "data": {
      "image/png": "[encoded data removed]",
      "text/plain": [
       "<Figure size 640x480 with 1 Axes>"
      ]
     },
     "metadata": {},
     "output_type": "display_data"
    },
    {
     "data": {
      "image/png": "[encoded data removed]",
      "text/plain": [
       "<Figure size 640x480 with 1 Axes>"
      ]
     },
     "metadata": {},
     "output_type": "display_data"
    },
    {
     "data": {
      "image/png": "[encoded data removed]",
      "text/plain": [
       "<Figure size 640x480 with 1 Axes>"
      ]
     },
     "metadata": {},
     "output_type": "display_data"
    },
    {
     "data": {
      "image/png": "[encoded data removed]",
      "text/plain": [
       "<Figure size 640x480 with 1 Axes>"
      ]
     },
     "metadata": {},
     "output_type": "display_data"
    },
    {
     "data": {
      "image/png": "[encoded data removed]",
      "text/plain": [
       "<Figure size 640x480 with 1 Axes>"
      ]
     },
     "metadata": {},
     "output_type": "display_data"
    },
    {
     "data": {
      "image/png": "[encoded data removed]",
      "text/plain": [
       "<Figure size 640x480 with 1 Axes>"
      ]
     },
     "metadata": {},
     "output_type": "display_data"
    },
    {
     "data": {
      "image/png": "[encoded data removed]",
      "text/plain": [
       "<Figure size 640x480 with 1 Axes>"
      ]
     },
     "metadata": {},
     "output_type": "display_data"
    },
    {
     "data": {
      "image/png": "[encoded data removed]",
      "text/plain": [
       "<Figure size 640x480 with 1 Axes>"
      ]
     },
     "metadata": {},
     "output_type": "display_data"
    },
    {
     "data": {
      "image/png": "[encoded data removed]",
      "text/plain": [
       "<Figure size 640x480 with 1 Axes>"
      ]
     },
     "metadata": {},
     "output_type": "display_data"
    },
    {
     "data": {
      "image/png": "[encoded data removed]",
      "text/plain": [
       "<Figure size 640x480 with 1 Axes>"
      ]
     },
     "metadata": {},
     "output_type": "display_data"
    },
    {
     "data": {
      "image/png": "[encoded data removed]",
      "text/plain": [
       "<Figure size 640x480 with 1 Axes>"
      ]
     },
     "metadata": {},
     "output_type": "display_data"
    },
    {
     "data": {
      "image/png": "[encoded data removed]",
      "text/plain": [
       "<Figure size 640x480 with 1 Axes>"
      ]
     },
     "metadata": {},
     "output_type": "display_data"
    },
    {
     "data": {
      "image/png": "[encoded data removed]",
      "text/plain": [
       "<Figure size 640x480 with 1 Axes>"
      ]
     },
     "metadata": {},
     "output_type": "display_data"
    },
    {
     "data": {
      "image/png": "[encoded data removed]",
      "text/plain": [
       "<Figure size 640x480 with 1 Axes>"
      ]
     },
     "metadata": {},
     "output_type": "display_data"
    },
    {
     "data": {
      "image/png": "[encoded data removed]",
      "text/plain": [
       "<Figure size 640x480 with 1 Axes>"
      ]
     },
     "metadata": {},
     "output_type": "display_data"
    },
    {
     "data": {
      "image/png": "[encoded data removed]",
      "text/plain": [
       "<Figure size 640x480 with 1 Axes>"
      ]
     },
     "metadata": {},
     "output_type": "display_data"
    }
   ],
   "source": [
    "for columns in df:\n",
    "  plt.figure()\n",
    "  df.boxplot([columns])"
   ]
  },
  {
   "cell_type": "code",
   "execution_count": 54,
   "metadata": {
    "id": "Odb_aQHxAVgr"
   },
   "outputs": [],
   "source": [
    "import seaborn as sns"
   ]
  },
  {
   "cell_type": "code",
   "execution_count": 55,
   "metadata": {
    "colab": {
     "base_uri": "https://localhost:8080/",
     "height": 1000
    },
    "id": "lJyV4puTAVjc",
    "outputId": "40ea80da-bee9-490d-8f2d-a33c89994fc4"
   },
   "outputs": [
    {
     "data": {
      "image/png": "[encoded data removed]",
      "text/plain": [
       "<Figure size 700x500 with 1 Axes>"
      ]
     },
     "metadata": {},
     "output_type": "display_data"
    },
    {
     "data": {
      "image/png": "[encoded data removed]",
      "text/plain": [
       "<Figure size 700x500 with 1 Axes>"
      ]
     },
     "metadata": {},
     "output_type": "display_data"
    },
    {
     "data": {
      "image/png": "[encoded data removed]",
      "text/plain": [
       "<Figure size 700x500 with 1 Axes>"
      ]
     },
     "metadata": {},
     "output_type": "display_data"
    },
    {
     "data": {
      "image/png": "[encoded data removed]",
      "text/plain": [
       "<Figure size 700x500 with 1 Axes>"
      ]
     },
     "metadata": {},
     "output_type": "display_data"
    },
    {
     "data": {
      "image/png": "[encoded data removed]",
      "text/plain": [
       "<Figure size 700x500 with 1 Axes>"
      ]
     },
     "metadata": {},
     "output_type": "display_data"
    },
    {
     "data": {
      "image/png": "[encoded data removed]",
      "text/plain": [
       "<Figure size 700x500 with 1 Axes>"
      ]
     },
     "metadata": {},
     "output_type": "display_data"
    },
    {
     "data": {
      "image/png": "[encoded data removed]",
      "text/plain": [
       "<Figure size 700x500 with 1 Axes>"
      ]
     },
     "metadata": {},
     "output_type": "display_data"
    },
    {
     "data": {
      "image/png": "[encoded data removed]",
      "text/plain": [
       "<Figure size 700x500 with 1 Axes>"
      ]
     },
     "metadata": {},
     "output_type": "display_data"
    },
    {
     "data": {
      "image/png": "[encoded data removed]",
      "text/plain": [
       "<Figure size 700x500 with 1 Axes>"
      ]
     },
     "metadata": {},
     "output_type": "display_data"
    },
    {
     "data": {
      "image/png": "[encoded data removed]",
      "text/plain": [
       "<Figure size 700x500 with 1 Axes>"
      ]
     },
     "metadata": {},
     "output_type": "display_data"
    },
    {
     "data": {
      "image/png": "[encoded data removed]",
      "text/plain": [
       "<Figure size 700x500 with 1 Axes>"
      ]
     },
     "metadata": {},
     "output_type": "display_data"
    },
    {
     "data": {
      "image/png": "[encoded data removed]",
      "text/plain": [
       "<Figure size 700x500 with 1 Axes>"
      ]
     },
     "metadata": {},
     "output_type": "display_data"
    },
    {
     "data": {
      "image/png": "[encoded data removed]",
      "text/plain": [
       "<Figure size 700x500 with 1 Axes>"
      ]
     },
     "metadata": {},
     "output_type": "display_data"
    },
    {
     "data": {
      "image/png": "[encoded data removed]",
      "text/plain": [
       "<Figure size 700x500 with 1 Axes>"
      ]
     },
     "metadata": {},
     "output_type": "display_data"
    },
    {
     "data": {
      "image/png": "[encoded data removed]",
      "text/plain": [
       "<Figure size 700x500 with 1 Axes>"
      ]
     },
     "metadata": {},
     "output_type": "display_data"
    },
    {
     "data": {
      "image/png": "[encoded data removed]",
      "text/plain": [
       "<Figure size 700x500 with 1 Axes>"
      ]
     },
     "metadata": {},
     "output_type": "display_data"
    }
   ],
   "source": [
    "for columns in df:\n",
    "  plt.figure(figsize=(7,5))\n",
    "  sns.boxplot(data=df,y=columns)"
   ]
  },
  {
   "cell_type": "code",
   "execution_count": 56,
   "metadata": {
    "colab": {
     "base_uri": "https://localhost:8080/"
    },
    "id": "StHzRRKTAVme",
    "outputId": "77b3d817-aa18-44c6-b381-6a60f4117e49"
   },
   "outputs": [
    {
     "name": "stdout",
     "output_type": "stream",
     "text": [
      "(array([], dtype=int64),)\n"
     ]
    }
   ],
   "source": [
    "print(np.where(df['math score']>80))"
   ]
  },
  {
   "cell_type": "code",
   "execution_count": 57,
   "metadata": {
    "colab": {
     "base_uri": "https://localhost:8080/"
    },
    "id": "4yct94udAVp1",
    "outputId": "aff2b6d4-cb8e-45fa-985e-c6083dd5c00d"
   },
   "outputs": [
    {
     "name": "stdout",
     "output_type": "stream",
     "text": [
      "(array([], dtype=int64),)\n"
     ]
    }
   ],
   "source": [
    "print(np.where(df['reading score ']>90))"
   ]
  },
  {
   "cell_type": "code",
   "execution_count": 58,
   "metadata": {
    "colab": {
     "base_uri": "https://localhost:8080/"
    },
    "id": "UGenUXb2BBOP",
    "outputId": "ea524fc2-706b-48c0-f09f-892b587d74a2"
   },
   "outputs": [
    {
     "name": "stdout",
     "output_type": "stream",
     "text": [
      "(array([], dtype=int64),)\n"
     ]
    }
   ],
   "source": [
    "print(np.where(df['writing score']<40))"
   ]
  },
  {
   "cell_type": "markdown",
   "metadata": {
    "id": "a91b1qWyBSXF"
   },
   "source": [
    "**2 Detecting Outliers using Scatterplot:**"
   ]
  },
  {
   "cell_type": "code",
   "execution_count": 59,
   "metadata": {
    "colab": {
     "base_uri": "https://localhost:8080/",
     "height": 265
    },
    "id": "bzEKznCDBeen",
    "outputId": "66d1c214-0e01-42b1-9ef2-05304074a563"
   },
   "outputs": [
    {
     "data": {
      "image/png": "[encoded data removed]",
      "text/plain": [
       "<Figure size 640x480 with 1 Axes>"
      ]
     },
     "metadata": {},
     "output_type": "display_data"
    }
   ],
   "source": [
    "#ax = plt.subplots(figsize=(18,10))\n",
    "plt.scatter(df['math score'],df['placement offer count'])\n",
    "plt.show()"
   ]
  },
  {
   "cell_type": "code",
   "execution_count": 60,
   "metadata": {
    "colab": {
     "base_uri": "https://localhost:8080/"
    },
    "id": "D9N0WLK6Bq50",
    "outputId": "be6c1e2f-8a49-4f06-fe15-0333fac44222"
   },
   "outputs": [
    {
     "data": {
      "text/plain": [
       "Index([           'math score',        'reading score ',\n",
       "               'writing score',       'placement score',\n",
       "              'club join year', 'placement offer count',\n",
       "                     ' gender',                      63,\n",
       "                            75,                      62,\n",
       "                            79,                      69,\n",
       "                            72,                      77,\n",
       "                            73,                      64],\n",
       "      dtype='object')"
      ]
     },
     "execution_count": 60,
     "metadata": {},
     "output_type": "execute_result"
    }
   ],
   "source": [
    "df.columns"
   ]
  },
  {
   "cell_type": "code",
   "execution_count": 61,
   "metadata": {
    "colab": {
     "base_uri": "https://localhost:8080/",
     "height": 265
    },
    "id": "wITvIaxTBtRa",
    "outputId": "c627f4ca-fcb0-4053-b935-3d6a532cf003"
   },
   "outputs": [
    {
     "data": {
      "image/png": "[encoded data removed]",
      "text/plain": [
       "<Figure size 640x480 with 1 Axes>"
      ]
     },
     "metadata": {},
     "output_type": "display_data"
    }
   ],
   "source": [
    "plt.scatter(df['placement score'],df['placement offer count'],c = 'yellow',linewidths = 2,marker = '.',edgecolor = 'red',s = 50)\n",
    "plt.xlabel=(\"placement score\")\n",
    "plt.ylabel=(\"placement offer count\")\n",
    "plt.show()"
   ]
  },
  {
   "cell_type": "code",
   "execution_count": 62,
   "metadata": {
    "colab": {
     "base_uri": "https://localhost:8080/",
     "height": 265
    },
    "id": "BQHM4-8FBxeH",
    "outputId": "c668553f-9469-48eb-815f-d8b26f344e0a"
   },
   "outputs": [
    {
     "data": {
      "image/png": "[encoded data removed]",
      "text/plain": [
       "<Figure size 640x480 with 1 Axes>"
      ]
     },
     "metadata": {},
     "output_type": "display_data"
    }
   ],
   "source": [
    "plt.scatter(x=df['math score'],y=df['placement score'],c='yellow',linewidths = 2,marker = '^',edgecolor = 'green',s = 80)\n",
    "plt.show()"
   ]
  },
  {
   "cell_type": "code",
   "execution_count": 63,
   "metadata": {
    "colab": {
     "base_uri": "https://localhost:8080/",
     "height": 275
    },
    "id": "1fflrgg1Bz99",
    "outputId": "2eb22625-f45a-431a-8369-08947506bbe7"
   },
   "outputs": [
    {
     "data": {
      "text/plain": [
       "<Figure size 640x480 with 0 Axes>"
      ]
     },
     "metadata": {},
     "output_type": "display_data"
    },
    {
     "data": {
      "image/png": "[encoded data removed]",
      "text/plain": [
       "<Figure size 640x480 with 2 Axes>"
      ]
     },
     "metadata": {},
     "output_type": "display_data"
    }
   ],
   "source": [
    "plt.figure()\n",
    "df.plot.scatter(x = 'placement score', y = 'placement offer count',c = ' gender',alpha = 0.4,cmap = plt.get_cmap('jet'),colorbar = 'red')\n",
    "#plt.savefig('scatter plot.png')\n",
    "#plt.tight_layout()\n",
    "plt.show()\n",
    "      "
   ]
  },
  {
   "cell_type": "markdown",
   "metadata": {
    "id": "SM8PWkdrCEfV"
   },
   "source": [
    "**Detecting outliers using Z-score**"
   ]
  },
  {
   "cell_type": "code",
   "execution_count": 64,
   "metadata": {
    "id": "tsycRGE3CTd9"
   },
   "outputs": [],
   "source": [
    "from scipy import stats"
   ]
  },
  {
   "cell_type": "code",
   "execution_count": 65,
   "metadata": {
    "colab": {
     "base_uri": "https://localhost:8080/"
    },
    "id": "zEDzB7kWEGh_",
    "outputId": "b2cf67d2-67c9-442a-b270-e1df780a42bf"
   },
   "outputs": [
    {
     "data": {
      "text/plain": [
       "0     1.450528\n",
       "1     1.141905\n",
       "2     1.018456\n",
       "3     0.586384\n",
       "4     1.141905\n",
       "5     0.997881\n",
       "6     1.594552\n",
       "7     0.133737\n",
       "8     0.154312\n",
       "9     0.853857\n",
       "10    0.421785\n",
       "11    0.997881\n",
       "12    1.450528\n",
       "13    0.565809\n",
       "Name: math score, dtype: float64"
      ]
     },
     "execution_count": 65,
     "metadata": {},
     "output_type": "execute_result"
    }
   ],
   "source": [
    "z = np.abs(stats.zscore(df['math score']))\n",
    "z"
   ]
  },
  {
   "cell_type": "code",
   "execution_count": 66,
   "metadata": {
    "colab": {
     "base_uri": "https://localhost:8080/"
    },
    "id": "uPQf1xlSCbwi",
    "outputId": "d21881a9-0c3b-4444-8918-7713b813ad63"
   },
   "outputs": [
    {
     "data": {
      "text/plain": [
       "(array([], dtype=int64),)"
      ]
     },
     "execution_count": 66,
     "metadata": {},
     "output_type": "execute_result"
    }
   ],
   "source": [
    "threshold = 1.8\n",
    "sample_outliers = np.where(z>threshold)\n",
    "sample_outliers"
   ]
  },
  {
   "cell_type": "code",
   "execution_count": 67,
   "metadata": {
    "colab": {
     "base_uri": "https://localhost:8080/"
    },
    "id": "Q9HfHgHkCb0d",
    "outputId": "6fdbdf8d-e3fc-4260-c6e4-fbe3081e2cd2"
   },
   "outputs": [
    {
     "data": {
      "text/plain": [
       "0     79\n",
       "1     61\n",
       "2     76\n",
       "3     73\n",
       "4     61\n",
       "5     62\n",
       "6     80\n",
       "7     68\n",
       "8     70\n",
       "9     63\n",
       "10    66\n",
       "11    62\n",
       "12    79\n",
       "13    65\n",
       "Name: math score, dtype: int64"
      ]
     },
     "execution_count": 67,
     "metadata": {},
     "output_type": "execute_result"
    }
   ],
   "source": [
    "df['math score']"
   ]
  },
  {
   "cell_type": "markdown",
   "metadata": {
    "id": "mndp-DGlDSel"
   },
   "source": [
    "**Detecting outliers using inter Quantile range(IQR)**"
   ]
  },
  {
   "cell_type": "code",
   "execution_count": 68,
   "metadata": {
    "colab": {
     "base_uri": "https://localhost:8080/"
    },
    "id": "LjQaW4KVEn_D",
    "outputId": "72115fa9-545c-42b1-ed8e-f5236840d081"
   },
   "outputs": [
    {
     "data": {
      "text/plain": [
       "[60, 60, 60, 61, 63, 66, 66, 69, 71, 73, 74, 75, 77, 78]"
      ]
     },
     "execution_count": 68,
     "metadata": {},
     "output_type": "execute_result"
    }
   ],
   "source": [
    "sorted_rscore = sorted(df['reading score '])\n",
    "sorted_rscore"
   ]
  },
  {
   "cell_type": "code",
   "execution_count": 69,
   "metadata": {
    "id": "ZRoMne8KEvzF"
   },
   "outputs": [],
   "source": [
    "#calculate and print Quartile 1 and Quartile 3\n",
    "q1 = np.percentile(sorted_rscore,25)\n",
    "q3 = np.percentile(sorted_rscore,75)"
   ]
  },
  {
   "cell_type": "code",
   "execution_count": 70,
   "metadata": {
    "colab": {
     "base_uri": "https://localhost:8080/"
    },
    "id": "paKp4LnTE6FI",
    "outputId": "46108948-8c13-43b3-b0e7-4c457e2f29bc"
   },
   "outputs": [
    {
     "data": {
      "text/plain": [
       "12.25"
      ]
     },
     "execution_count": 70,
     "metadata": {},
     "output_type": "execute_result"
    }
   ],
   "source": [
    "IQR = q3-q1\n",
    "IQR"
   ]
  },
  {
   "cell_type": "code",
   "execution_count": 71,
   "metadata": {
    "colab": {
     "base_uri": "https://localhost:8080/"
    },
    "id": "rr8-iMfgE_9u",
    "outputId": "7be092c0-dd2b-4b7d-d890-f5e198cdfd59"
   },
   "outputs": [
    {
     "name": "stdout",
     "output_type": "stream",
     "text": [
      "43.125 92.125\n"
     ]
    }
   ],
   "source": [
    "lwr_bound = q1-(1.5*IQR)\n",
    "upr_bound = q3+(1.5*IQR)\n",
    "print(lwr_bound,upr_bound)"
   ]
  },
  {
   "cell_type": "code",
   "execution_count": 72,
   "metadata": {
    "id": "5hbaq8NVFDvn"
   },
   "outputs": [],
   "source": [
    "#print outliers\n",
    "r_outliers =[]\n",
    "for i in sorted_rscore:\n",
    "  if(i<lwr_bound or i>upr_bound):\n",
    "    r_outliers.append(i)\n",
    "    print(r_outliers)\n"
   ]
  },
  {
   "cell_type": "code",
   "execution_count": 73,
   "metadata": {
    "colab": {
     "base_uri": "https://localhost:8080/"
    },
    "id": "uDDqjGSjFK32",
    "outputId": "5b77d4e1-548c-43be-8866-e1823775f9d8"
   },
   "outputs": [
    {
     "data": {
      "text/plain": [
       "0     66\n",
       "1     60\n",
       "2     75\n",
       "3     63\n",
       "4     78\n",
       "5     77\n",
       "6     60\n",
       "7     60\n",
       "8     73\n",
       "9     66\n",
       "10    71\n",
       "11    74\n",
       "12    69\n",
       "13    61\n",
       "Name: reading score , dtype: int64"
      ]
     },
     "execution_count": 73,
     "metadata": {},
     "output_type": "execute_result"
    }
   ],
   "source": [
    "df['reading score ']"
   ]
  },
  {
   "cell_type": "markdown",
   "metadata": {
    "id": "0bmgmXg-FNI7"
   },
   "source": [
    "**Handling of Otlier**"
   ]
  },
  {
   "cell_type": "markdown",
   "metadata": {
    "id": "CRQUThuCFUQ_"
   },
   "source": [
    "**1.Trimming / Removing the outlier**"
   ]
  },
  {
   "cell_type": "code",
   "execution_count": 74,
   "metadata": {
    "id": "GBscIUUXFb4X"
   },
   "outputs": [],
   "source": [
    "new_df=df.copy()\n",
    "for i in sample_outliers:\n",
    "  new_df.drop(i,inplace=True)\n",
    "  new_df"
   ]
  },
  {
   "cell_type": "markdown",
   "metadata": {
    "id": "7AKOeTnXFerD"
   },
   "source": [
    "**2.Quantile based flooring and capping**"
   ]
  },
  {
   "cell_type": "code",
   "execution_count": 75,
   "metadata": {
    "id": "QhdRB4yyF3Fu"
   },
   "outputs": [],
   "source": [
    "df_stud=df.copy()"
   ]
  },
  {
   "cell_type": "code",
   "execution_count": 76,
   "metadata": {
    "colab": {
     "base_uri": "https://localhost:8080/",
     "height": 532
    },
    "id": "DrROTlU3F_p9",
    "outputId": "464cc875-2626-46d8-9f12-7b51aa2f6700"
   },
   "outputs": [
    {
     "data": {
      "text/html": [
       "<div>\n",
       "<style scoped>\n",
       "    .dataframe tbody tr th:only-of-type {\n",
       "        vertical-align: middle;\n",
       "    }\n",
       "\n",
       "    .dataframe tbody tr th {\n",
       "        vertical-align: top;\n",
       "    }\n",
       "\n",
       "    .dataframe thead th {\n",
       "        text-align: right;\n",
       "    }\n",
       "</style>\n",
       "<table border=\"1\" class=\"dataframe\">\n",
       "  <thead>\n",
       "    <tr style=\"text-align: right;\">\n",
       "      <th></th>\n",
       "      <th>math score</th>\n",
       "      <th>reading score</th>\n",
       "      <th>writing score</th>\n",
       "      <th>placement score</th>\n",
       "      <th>club join year</th>\n",
       "      <th>placement offer count</th>\n",
       "      <th>gender</th>\n",
       "      <th>63</th>\n",
       "      <th>75</th>\n",
       "      <th>62</th>\n",
       "      <th>79</th>\n",
       "      <th>69</th>\n",
       "      <th>72</th>\n",
       "      <th>77</th>\n",
       "      <th>73</th>\n",
       "      <th>64</th>\n",
       "    </tr>\n",
       "  </thead>\n",
       "  <tbody>\n",
       "    <tr>\n",
       "      <th>0</th>\n",
       "      <td>79</td>\n",
       "      <td>66</td>\n",
       "      <td>63</td>\n",
       "      <td>72</td>\n",
       "      <td>2018</td>\n",
       "      <td>1</td>\n",
       "      <td>0</td>\n",
       "      <td>63</td>\n",
       "      <td>75</td>\n",
       "      <td>62</td>\n",
       "      <td>79</td>\n",
       "      <td>69</td>\n",
       "      <td>72</td>\n",
       "      <td>77</td>\n",
       "      <td>73</td>\n",
       "      <td>64</td>\n",
       "    </tr>\n",
       "    <tr>\n",
       "      <th>1</th>\n",
       "      <td>61</td>\n",
       "      <td>60</td>\n",
       "      <td>75</td>\n",
       "      <td>75</td>\n",
       "      <td>2022</td>\n",
       "      <td>2</td>\n",
       "      <td>0</td>\n",
       "      <td>63</td>\n",
       "      <td>75</td>\n",
       "      <td>62</td>\n",
       "      <td>79</td>\n",
       "      <td>69</td>\n",
       "      <td>72</td>\n",
       "      <td>77</td>\n",
       "      <td>73</td>\n",
       "      <td>64</td>\n",
       "    </tr>\n",
       "    <tr>\n",
       "      <th>2</th>\n",
       "      <td>76</td>\n",
       "      <td>75</td>\n",
       "      <td>62</td>\n",
       "      <td>69</td>\n",
       "      <td>2020</td>\n",
       "      <td>1</td>\n",
       "      <td>0</td>\n",
       "      <td>63</td>\n",
       "      <td>75</td>\n",
       "      <td>62</td>\n",
       "      <td>79</td>\n",
       "      <td>69</td>\n",
       "      <td>72</td>\n",
       "      <td>77</td>\n",
       "      <td>73</td>\n",
       "      <td>64</td>\n",
       "    </tr>\n",
       "    <tr>\n",
       "      <th>3</th>\n",
       "      <td>73</td>\n",
       "      <td>63</td>\n",
       "      <td>79</td>\n",
       "      <td>64</td>\n",
       "      <td>2019</td>\n",
       "      <td>1</td>\n",
       "      <td>1</td>\n",
       "      <td>63</td>\n",
       "      <td>75</td>\n",
       "      <td>62</td>\n",
       "      <td>79</td>\n",
       "      <td>69</td>\n",
       "      <td>72</td>\n",
       "      <td>77</td>\n",
       "      <td>73</td>\n",
       "      <td>64</td>\n",
       "    </tr>\n",
       "    <tr>\n",
       "      <th>4</th>\n",
       "      <td>61</td>\n",
       "      <td>78</td>\n",
       "      <td>69</td>\n",
       "      <td>66</td>\n",
       "      <td>2022</td>\n",
       "      <td>1</td>\n",
       "      <td>1</td>\n",
       "      <td>63</td>\n",
       "      <td>75</td>\n",
       "      <td>62</td>\n",
       "      <td>79</td>\n",
       "      <td>69</td>\n",
       "      <td>72</td>\n",
       "      <td>77</td>\n",
       "      <td>73</td>\n",
       "      <td>64</td>\n",
       "    </tr>\n",
       "    <tr>\n",
       "      <th>5</th>\n",
       "      <td>62</td>\n",
       "      <td>77</td>\n",
       "      <td>72</td>\n",
       "      <td>73</td>\n",
       "      <td>2019</td>\n",
       "      <td>1</td>\n",
       "      <td>0</td>\n",
       "      <td>63</td>\n",
       "      <td>75</td>\n",
       "      <td>62</td>\n",
       "      <td>79</td>\n",
       "      <td>69</td>\n",
       "      <td>72</td>\n",
       "      <td>77</td>\n",
       "      <td>73</td>\n",
       "      <td>64</td>\n",
       "    </tr>\n",
       "    <tr>\n",
       "      <th>6</th>\n",
       "      <td>80</td>\n",
       "      <td>60</td>\n",
       "      <td>79</td>\n",
       "      <td>72</td>\n",
       "      <td>2020</td>\n",
       "      <td>1</td>\n",
       "      <td>1</td>\n",
       "      <td>63</td>\n",
       "      <td>75</td>\n",
       "      <td>62</td>\n",
       "      <td>79</td>\n",
       "      <td>69</td>\n",
       "      <td>72</td>\n",
       "      <td>77</td>\n",
       "      <td>73</td>\n",
       "      <td>64</td>\n",
       "    </tr>\n",
       "    <tr>\n",
       "      <th>7</th>\n",
       "      <td>68</td>\n",
       "      <td>60</td>\n",
       "      <td>77</td>\n",
       "      <td>72</td>\n",
       "      <td>2020</td>\n",
       "      <td>1</td>\n",
       "      <td>1</td>\n",
       "      <td>63</td>\n",
       "      <td>75</td>\n",
       "      <td>62</td>\n",
       "      <td>79</td>\n",
       "      <td>69</td>\n",
       "      <td>72</td>\n",
       "      <td>77</td>\n",
       "      <td>73</td>\n",
       "      <td>64</td>\n",
       "    </tr>\n",
       "    <tr>\n",
       "      <th>8</th>\n",
       "      <td>70</td>\n",
       "      <td>73</td>\n",
       "      <td>77</td>\n",
       "      <td>66</td>\n",
       "      <td>2022</td>\n",
       "      <td>1</td>\n",
       "      <td>1</td>\n",
       "      <td>63</td>\n",
       "      <td>75</td>\n",
       "      <td>62</td>\n",
       "      <td>79</td>\n",
       "      <td>69</td>\n",
       "      <td>72</td>\n",
       "      <td>77</td>\n",
       "      <td>73</td>\n",
       "      <td>64</td>\n",
       "    </tr>\n",
       "    <tr>\n",
       "      <th>9</th>\n",
       "      <td>63</td>\n",
       "      <td>66</td>\n",
       "      <td>73</td>\n",
       "      <td>68</td>\n",
       "      <td>2024</td>\n",
       "      <td>1</td>\n",
       "      <td>0</td>\n",
       "      <td>63</td>\n",
       "      <td>75</td>\n",
       "      <td>62</td>\n",
       "      <td>79</td>\n",
       "      <td>69</td>\n",
       "      <td>72</td>\n",
       "      <td>77</td>\n",
       "      <td>73</td>\n",
       "      <td>64</td>\n",
       "    </tr>\n",
       "    <tr>\n",
       "      <th>10</th>\n",
       "      <td>66</td>\n",
       "      <td>71</td>\n",
       "      <td>75</td>\n",
       "      <td>80</td>\n",
       "      <td>2022</td>\n",
       "      <td>2</td>\n",
       "      <td>0</td>\n",
       "      <td>63</td>\n",
       "      <td>75</td>\n",
       "      <td>62</td>\n",
       "      <td>79</td>\n",
       "      <td>69</td>\n",
       "      <td>72</td>\n",
       "      <td>77</td>\n",
       "      <td>73</td>\n",
       "      <td>64</td>\n",
       "    </tr>\n",
       "    <tr>\n",
       "      <th>11</th>\n",
       "      <td>62</td>\n",
       "      <td>74</td>\n",
       "      <td>79</td>\n",
       "      <td>64</td>\n",
       "      <td>2024</td>\n",
       "      <td>1</td>\n",
       "      <td>1</td>\n",
       "      <td>63</td>\n",
       "      <td>75</td>\n",
       "      <td>62</td>\n",
       "      <td>79</td>\n",
       "      <td>69</td>\n",
       "      <td>72</td>\n",
       "      <td>77</td>\n",
       "      <td>73</td>\n",
       "      <td>64</td>\n",
       "    </tr>\n",
       "    <tr>\n",
       "      <th>12</th>\n",
       "      <td>79</td>\n",
       "      <td>69</td>\n",
       "      <td>73</td>\n",
       "      <td>79</td>\n",
       "      <td>2019</td>\n",
       "      <td>2</td>\n",
       "      <td>1</td>\n",
       "      <td>63</td>\n",
       "      <td>75</td>\n",
       "      <td>62</td>\n",
       "      <td>79</td>\n",
       "      <td>69</td>\n",
       "      <td>72</td>\n",
       "      <td>77</td>\n",
       "      <td>73</td>\n",
       "      <td>64</td>\n",
       "    </tr>\n",
       "    <tr>\n",
       "      <th>13</th>\n",
       "      <td>65</td>\n",
       "      <td>61</td>\n",
       "      <td>64</td>\n",
       "      <td>62</td>\n",
       "      <td>2022</td>\n",
       "      <td>1</td>\n",
       "      <td>1</td>\n",
       "      <td>63</td>\n",
       "      <td>75</td>\n",
       "      <td>62</td>\n",
       "      <td>79</td>\n",
       "      <td>69</td>\n",
       "      <td>72</td>\n",
       "      <td>77</td>\n",
       "      <td>73</td>\n",
       "      <td>64</td>\n",
       "    </tr>\n",
       "  </tbody>\n",
       "</table>\n",
       "</div>"
      ],
      "text/plain": [
       "    math score  reading score   writing score  placement score  \\\n",
       "0           79              66             63               72   \n",
       "1           61              60             75               75   \n",
       "2           76              75             62               69   \n",
       "3           73              63             79               64   \n",
       "4           61              78             69               66   \n",
       "5           62              77             72               73   \n",
       "6           80              60             79               72   \n",
       "7           68              60             77               72   \n",
       "8           70              73             77               66   \n",
       "9           63              66             73               68   \n",
       "10          66              71             75               80   \n",
       "11          62              74             79               64   \n",
       "12          79              69             73               79   \n",
       "13          65              61             64               62   \n",
       "\n",
       "    club join year  placement offer count   gender  63  75  62  79  69  72  \\\n",
       "0             2018                      1        0  63  75  62  79  69  72   \n",
       "1             2022                      2        0  63  75  62  79  69  72   \n",
       "2             2020                      1        0  63  75  62  79  69  72   \n",
       "3             2019                      1        1  63  75  62  79  69  72   \n",
       "4             2022                      1        1  63  75  62  79  69  72   \n",
       "5             2019                      1        0  63  75  62  79  69  72   \n",
       "6             2020                      1        1  63  75  62  79  69  72   \n",
       "7             2020                      1        1  63  75  62  79  69  72   \n",
       "8             2022                      1        1  63  75  62  79  69  72   \n",
       "9             2024                      1        0  63  75  62  79  69  72   \n",
       "10            2022                      2        0  63  75  62  79  69  72   \n",
       "11            2024                      1        1  63  75  62  79  69  72   \n",
       "12            2019                      2        1  63  75  62  79  69  72   \n",
       "13            2022                      1        1  63  75  62  79  69  72   \n",
       "\n",
       "    77  73  64  \n",
       "0   77  73  64  \n",
       "1   77  73  64  \n",
       "2   77  73  64  \n",
       "3   77  73  64  \n",
       "4   77  73  64  \n",
       "5   77  73  64  \n",
       "6   77  73  64  \n",
       "7   77  73  64  \n",
       "8   77  73  64  \n",
       "9   77  73  64  \n",
       "10  77  73  64  \n",
       "11  77  73  64  \n",
       "12  77  73  64  \n",
       "13  77  73  64  "
      ]
     },
     "execution_count": 76,
     "metadata": {},
     "output_type": "execute_result"
    }
   ],
   "source": [
    "df_stud"
   ]
  },
  {
   "cell_type": "code",
   "execution_count": 77,
   "metadata": {
    "colab": {
     "base_uri": "https://localhost:8080/"
    },
    "id": "BI5s9hSYGJYo",
    "outputId": "b152080f-073f-46af-8c8b-09ebc703022c"
   },
   "outputs": [
    {
     "name": "stdout",
     "output_type": "stream",
     "text": [
      "61.3\n",
      "79.0\n"
     ]
    }
   ],
   "source": [
    "print(df_stud['math score'].quantile(0.10))\n",
    "print(df_stud['math score'].quantile(0.90))\n",
    "\n",
    "\n"
   ]
  },
  {
   "cell_type": "code",
   "execution_count": 78,
   "metadata": {
    "id": "SdxhTKtqGOMl"
   },
   "outputs": [],
   "source": [
    "df_std1=df_stud.copy()\n",
    "a = np.where(df_stud['math score']<62.0,62.0,df_stud['math score'])\n",
    "b = np.where(df_stud['math score']<62.0,62.0,df_stud['math score'])\n",
    "\n"
   ]
  },
  {
   "cell_type": "code",
   "execution_count": 79,
   "metadata": {
    "colab": {
     "base_uri": "https://localhost:8080/"
    },
    "id": "ZNBxHL5-GRQJ",
    "outputId": "3e823ae8-9519-404e-e9e0-c21ee8cd92b2"
   },
   "outputs": [
    {
     "name": "stdout",
     "output_type": "stream",
     "text": [
      "a= [79. 62. 76. 73. 62. 62. 80. 68. 70. 63. 66. 62. 79. 65.]\n",
      "b= [79. 62. 76. 73. 62. 62. 80. 68. 70. 63. 66. 62. 79. 65.]\n"
     ]
    }
   ],
   "source": [
    "print(\"a=\",a)\n",
    "print(\"b=\",b)"
   ]
  },
  {
   "cell_type": "code",
   "execution_count": 80,
   "metadata": {
    "id": "B3Cw_-NmGpWM"
   },
   "outputs": [],
   "source": [
    "df_stud.insert(1,\"new_math<62\",a,True)\n",
    "df_stud.insert(1,\"new_math>79.1\",b,True)"
   ]
  },
  {
   "cell_type": "markdown",
   "metadata": {
    "id": "InLn2oqpGq1B"
   },
   "source": [
    "**3 Imputing median value**"
   ]
  },
  {
   "cell_type": "code",
   "execution_count": 81,
   "metadata": {
    "colab": {
     "base_uri": "https://localhost:8080/",
     "height": 265
    },
    "id": "LtJrGv4dGx8i",
    "outputId": "46268701-6f94-4bd6-dd33-e7a75f8cb987"
   },
   "outputs": [
    {
     "data": {
      "image/png": "[encoded data removed]",
      "text/plain": [
       "<Figure size 640x480 with 1 Axes>"
      ]
     },
     "metadata": {},
     "output_type": "display_data"
    }
   ],
   "source": [
    "#col = ['reading score ']\n",
    "plt.boxplot(df['reading score '])\n",
    "plt.show()"
   ]
  },
  {
   "cell_type": "code",
   "execution_count": 82,
   "metadata": {
    "colab": {
     "base_uri": "https://localhost:8080/"
    },
    "id": "3XAe1SRMHNl4",
    "outputId": "4cc4c025-deac-445f-dfbc-7a170cd9ce36"
   },
   "outputs": [
    {
     "data": {
      "text/plain": [
       "67.5"
      ]
     },
     "execution_count": 82,
     "metadata": {},
     "output_type": "execute_result"
    }
   ],
   "source": [
    "median=np.median(sorted_rscore)\n",
    "median"
   ]
  },
  {
   "cell_type": "code",
   "execution_count": 83,
   "metadata": {
    "colab": {
     "base_uri": "https://localhost:8080/",
     "height": 532
    },
    "id": "FXQcM7MYHP8v",
    "outputId": "3d977bf5-deb9-4161-bafa-3ac76e44e4ce"
   },
   "outputs": [
    {
     "data": {
      "text/html": [
       "<div>\n",
       "<style scoped>\n",
       "    .dataframe tbody tr th:only-of-type {\n",
       "        vertical-align: middle;\n",
       "    }\n",
       "\n",
       "    .dataframe tbody tr th {\n",
       "        vertical-align: top;\n",
       "    }\n",
       "\n",
       "    .dataframe thead th {\n",
       "        text-align: right;\n",
       "    }\n",
       "</style>\n",
       "<table border=\"1\" class=\"dataframe\">\n",
       "  <thead>\n",
       "    <tr style=\"text-align: right;\">\n",
       "      <th></th>\n",
       "      <th>math score</th>\n",
       "      <th>reading score</th>\n",
       "      <th>writing score</th>\n",
       "      <th>placement score</th>\n",
       "      <th>club join year</th>\n",
       "      <th>placement offer count</th>\n",
       "      <th>gender</th>\n",
       "      <th>63</th>\n",
       "      <th>75</th>\n",
       "      <th>62</th>\n",
       "      <th>79</th>\n",
       "      <th>69</th>\n",
       "      <th>72</th>\n",
       "      <th>77</th>\n",
       "      <th>73</th>\n",
       "      <th>64</th>\n",
       "    </tr>\n",
       "  </thead>\n",
       "  <tbody>\n",
       "    <tr>\n",
       "      <th>0</th>\n",
       "      <td>79</td>\n",
       "      <td>66</td>\n",
       "      <td>63</td>\n",
       "      <td>72</td>\n",
       "      <td>2018</td>\n",
       "      <td>1</td>\n",
       "      <td>0</td>\n",
       "      <td>63</td>\n",
       "      <td>75</td>\n",
       "      <td>62</td>\n",
       "      <td>79</td>\n",
       "      <td>69</td>\n",
       "      <td>72</td>\n",
       "      <td>77</td>\n",
       "      <td>73</td>\n",
       "      <td>64</td>\n",
       "    </tr>\n",
       "    <tr>\n",
       "      <th>1</th>\n",
       "      <td>61</td>\n",
       "      <td>60</td>\n",
       "      <td>75</td>\n",
       "      <td>75</td>\n",
       "      <td>2022</td>\n",
       "      <td>2</td>\n",
       "      <td>0</td>\n",
       "      <td>63</td>\n",
       "      <td>75</td>\n",
       "      <td>62</td>\n",
       "      <td>79</td>\n",
       "      <td>69</td>\n",
       "      <td>72</td>\n",
       "      <td>77</td>\n",
       "      <td>73</td>\n",
       "      <td>64</td>\n",
       "    </tr>\n",
       "    <tr>\n",
       "      <th>2</th>\n",
       "      <td>76</td>\n",
       "      <td>75</td>\n",
       "      <td>62</td>\n",
       "      <td>69</td>\n",
       "      <td>2020</td>\n",
       "      <td>1</td>\n",
       "      <td>0</td>\n",
       "      <td>63</td>\n",
       "      <td>75</td>\n",
       "      <td>62</td>\n",
       "      <td>79</td>\n",
       "      <td>69</td>\n",
       "      <td>72</td>\n",
       "      <td>77</td>\n",
       "      <td>73</td>\n",
       "      <td>64</td>\n",
       "    </tr>\n",
       "    <tr>\n",
       "      <th>3</th>\n",
       "      <td>73</td>\n",
       "      <td>63</td>\n",
       "      <td>79</td>\n",
       "      <td>64</td>\n",
       "      <td>2019</td>\n",
       "      <td>1</td>\n",
       "      <td>1</td>\n",
       "      <td>63</td>\n",
       "      <td>75</td>\n",
       "      <td>62</td>\n",
       "      <td>79</td>\n",
       "      <td>69</td>\n",
       "      <td>72</td>\n",
       "      <td>77</td>\n",
       "      <td>73</td>\n",
       "      <td>64</td>\n",
       "    </tr>\n",
       "    <tr>\n",
       "      <th>4</th>\n",
       "      <td>61</td>\n",
       "      <td>78</td>\n",
       "      <td>69</td>\n",
       "      <td>66</td>\n",
       "      <td>2022</td>\n",
       "      <td>1</td>\n",
       "      <td>1</td>\n",
       "      <td>63</td>\n",
       "      <td>75</td>\n",
       "      <td>62</td>\n",
       "      <td>79</td>\n",
       "      <td>69</td>\n",
       "      <td>72</td>\n",
       "      <td>77</td>\n",
       "      <td>73</td>\n",
       "      <td>64</td>\n",
       "    </tr>\n",
       "    <tr>\n",
       "      <th>5</th>\n",
       "      <td>62</td>\n",
       "      <td>77</td>\n",
       "      <td>72</td>\n",
       "      <td>73</td>\n",
       "      <td>2019</td>\n",
       "      <td>1</td>\n",
       "      <td>0</td>\n",
       "      <td>63</td>\n",
       "      <td>75</td>\n",
       "      <td>62</td>\n",
       "      <td>79</td>\n",
       "      <td>69</td>\n",
       "      <td>72</td>\n",
       "      <td>77</td>\n",
       "      <td>73</td>\n",
       "      <td>64</td>\n",
       "    </tr>\n",
       "    <tr>\n",
       "      <th>6</th>\n",
       "      <td>80</td>\n",
       "      <td>60</td>\n",
       "      <td>79</td>\n",
       "      <td>72</td>\n",
       "      <td>2020</td>\n",
       "      <td>1</td>\n",
       "      <td>1</td>\n",
       "      <td>63</td>\n",
       "      <td>75</td>\n",
       "      <td>62</td>\n",
       "      <td>79</td>\n",
       "      <td>69</td>\n",
       "      <td>72</td>\n",
       "      <td>77</td>\n",
       "      <td>73</td>\n",
       "      <td>64</td>\n",
       "    </tr>\n",
       "    <tr>\n",
       "      <th>7</th>\n",
       "      <td>68</td>\n",
       "      <td>60</td>\n",
       "      <td>77</td>\n",
       "      <td>72</td>\n",
       "      <td>2020</td>\n",
       "      <td>1</td>\n",
       "      <td>1</td>\n",
       "      <td>63</td>\n",
       "      <td>75</td>\n",
       "      <td>62</td>\n",
       "      <td>79</td>\n",
       "      <td>69</td>\n",
       "      <td>72</td>\n",
       "      <td>77</td>\n",
       "      <td>73</td>\n",
       "      <td>64</td>\n",
       "    </tr>\n",
       "    <tr>\n",
       "      <th>8</th>\n",
       "      <td>70</td>\n",
       "      <td>73</td>\n",
       "      <td>77</td>\n",
       "      <td>66</td>\n",
       "      <td>2022</td>\n",
       "      <td>1</td>\n",
       "      <td>1</td>\n",
       "      <td>63</td>\n",
       "      <td>75</td>\n",
       "      <td>62</td>\n",
       "      <td>79</td>\n",
       "      <td>69</td>\n",
       "      <td>72</td>\n",
       "      <td>77</td>\n",
       "      <td>73</td>\n",
       "      <td>64</td>\n",
       "    </tr>\n",
       "    <tr>\n",
       "      <th>9</th>\n",
       "      <td>63</td>\n",
       "      <td>66</td>\n",
       "      <td>73</td>\n",
       "      <td>68</td>\n",
       "      <td>2024</td>\n",
       "      <td>1</td>\n",
       "      <td>0</td>\n",
       "      <td>63</td>\n",
       "      <td>75</td>\n",
       "      <td>62</td>\n",
       "      <td>79</td>\n",
       "      <td>69</td>\n",
       "      <td>72</td>\n",
       "      <td>77</td>\n",
       "      <td>73</td>\n",
       "      <td>64</td>\n",
       "    </tr>\n",
       "    <tr>\n",
       "      <th>10</th>\n",
       "      <td>66</td>\n",
       "      <td>71</td>\n",
       "      <td>75</td>\n",
       "      <td>80</td>\n",
       "      <td>2022</td>\n",
       "      <td>2</td>\n",
       "      <td>0</td>\n",
       "      <td>63</td>\n",
       "      <td>75</td>\n",
       "      <td>62</td>\n",
       "      <td>79</td>\n",
       "      <td>69</td>\n",
       "      <td>72</td>\n",
       "      <td>77</td>\n",
       "      <td>73</td>\n",
       "      <td>64</td>\n",
       "    </tr>\n",
       "    <tr>\n",
       "      <th>11</th>\n",
       "      <td>62</td>\n",
       "      <td>74</td>\n",
       "      <td>79</td>\n",
       "      <td>64</td>\n",
       "      <td>2024</td>\n",
       "      <td>1</td>\n",
       "      <td>1</td>\n",
       "      <td>63</td>\n",
       "      <td>75</td>\n",
       "      <td>62</td>\n",
       "      <td>79</td>\n",
       "      <td>69</td>\n",
       "      <td>72</td>\n",
       "      <td>77</td>\n",
       "      <td>73</td>\n",
       "      <td>64</td>\n",
       "    </tr>\n",
       "    <tr>\n",
       "      <th>12</th>\n",
       "      <td>79</td>\n",
       "      <td>69</td>\n",
       "      <td>73</td>\n",
       "      <td>79</td>\n",
       "      <td>2019</td>\n",
       "      <td>2</td>\n",
       "      <td>1</td>\n",
       "      <td>63</td>\n",
       "      <td>75</td>\n",
       "      <td>62</td>\n",
       "      <td>79</td>\n",
       "      <td>69</td>\n",
       "      <td>72</td>\n",
       "      <td>77</td>\n",
       "      <td>73</td>\n",
       "      <td>64</td>\n",
       "    </tr>\n",
       "    <tr>\n",
       "      <th>13</th>\n",
       "      <td>65</td>\n",
       "      <td>61</td>\n",
       "      <td>64</td>\n",
       "      <td>62</td>\n",
       "      <td>2022</td>\n",
       "      <td>1</td>\n",
       "      <td>1</td>\n",
       "      <td>63</td>\n",
       "      <td>75</td>\n",
       "      <td>62</td>\n",
       "      <td>79</td>\n",
       "      <td>69</td>\n",
       "      <td>72</td>\n",
       "      <td>77</td>\n",
       "      <td>73</td>\n",
       "      <td>64</td>\n",
       "    </tr>\n",
       "  </tbody>\n",
       "</table>\n",
       "</div>"
      ],
      "text/plain": [
       "    math score  reading score   writing score  placement score  \\\n",
       "0           79              66             63               72   \n",
       "1           61              60             75               75   \n",
       "2           76              75             62               69   \n",
       "3           73              63             79               64   \n",
       "4           61              78             69               66   \n",
       "5           62              77             72               73   \n",
       "6           80              60             79               72   \n",
       "7           68              60             77               72   \n",
       "8           70              73             77               66   \n",
       "9           63              66             73               68   \n",
       "10          66              71             75               80   \n",
       "11          62              74             79               64   \n",
       "12          79              69             73               79   \n",
       "13          65              61             64               62   \n",
       "\n",
       "    club join year  placement offer count   gender  63  75  62  79  69  72  \\\n",
       "0             2018                      1        0  63  75  62  79  69  72   \n",
       "1             2022                      2        0  63  75  62  79  69  72   \n",
       "2             2020                      1        0  63  75  62  79  69  72   \n",
       "3             2019                      1        1  63  75  62  79  69  72   \n",
       "4             2022                      1        1  63  75  62  79  69  72   \n",
       "5             2019                      1        0  63  75  62  79  69  72   \n",
       "6             2020                      1        1  63  75  62  79  69  72   \n",
       "7             2020                      1        1  63  75  62  79  69  72   \n",
       "8             2022                      1        1  63  75  62  79  69  72   \n",
       "9             2024                      1        0  63  75  62  79  69  72   \n",
       "10            2022                      2        0  63  75  62  79  69  72   \n",
       "11            2024                      1        1  63  75  62  79  69  72   \n",
       "12            2019                      2        1  63  75  62  79  69  72   \n",
       "13            2022                      1        1  63  75  62  79  69  72   \n",
       "\n",
       "    77  73  64  \n",
       "0   77  73  64  \n",
       "1   77  73  64  \n",
       "2   77  73  64  \n",
       "3   77  73  64  \n",
       "4   77  73  64  \n",
       "5   77  73  64  \n",
       "6   77  73  64  \n",
       "7   77  73  64  \n",
       "8   77  73  64  \n",
       "9   77  73  64  \n",
       "10  77  73  64  \n",
       "11  77  73  64  \n",
       "12  77  73  64  \n",
       "13  77  73  64  "
      ]
     },
     "execution_count": 83,
     "metadata": {},
     "output_type": "execute_result"
    }
   ],
   "source": [
    "new_df=df.copy()\n",
    "new_df2=new_df.copy()\n",
    "new_df"
   ]
  },
  {
   "cell_type": "code",
   "execution_count": 84,
   "metadata": {
    "id": "e2Bkrg84HSi_"
   },
   "outputs": [],
   "source": [
    "new_df['reading score ']=np.where(new_df['reading score ']> upr_bound,73.0,new_df['reading score '])\n"
   ]
  },
  {
   "cell_type": "code",
   "execution_count": 85,
   "metadata": {
    "id": "ANfXbwQ0HfgC"
   },
   "outputs": [],
   "source": [
    "new_df.insert(2,\"old_reading_score\",new_df2['reading score '],True)"
   ]
  },
  {
   "cell_type": "code",
   "execution_count": 86,
   "metadata": {
    "colab": {
     "base_uri": "https://localhost:8080/",
     "height": 549
    },
    "id": "pAwwqZ8RHj2Q",
    "outputId": "3bc681a8-6068-4439-fecd-38a2a64e736b"
   },
   "outputs": [
    {
     "data": {
      "text/html": [
       "<div>\n",
       "<style scoped>\n",
       "    .dataframe tbody tr th:only-of-type {\n",
       "        vertical-align: middle;\n",
       "    }\n",
       "\n",
       "    .dataframe tbody tr th {\n",
       "        vertical-align: top;\n",
       "    }\n",
       "\n",
       "    .dataframe thead th {\n",
       "        text-align: right;\n",
       "    }\n",
       "</style>\n",
       "<table border=\"1\" class=\"dataframe\">\n",
       "  <thead>\n",
       "    <tr style=\"text-align: right;\">\n",
       "      <th></th>\n",
       "      <th>math score</th>\n",
       "      <th>reading score</th>\n",
       "      <th>old_reading_score</th>\n",
       "      <th>writing score</th>\n",
       "      <th>placement score</th>\n",
       "      <th>club join year</th>\n",
       "      <th>placement offer count</th>\n",
       "      <th>gender</th>\n",
       "      <th>63</th>\n",
       "      <th>75</th>\n",
       "      <th>62</th>\n",
       "      <th>79</th>\n",
       "      <th>69</th>\n",
       "      <th>72</th>\n",
       "      <th>77</th>\n",
       "      <th>73</th>\n",
       "      <th>64</th>\n",
       "    </tr>\n",
       "  </thead>\n",
       "  <tbody>\n",
       "    <tr>\n",
       "      <th>0</th>\n",
       "      <td>79</td>\n",
       "      <td>66.0</td>\n",
       "      <td>66</td>\n",
       "      <td>63</td>\n",
       "      <td>72</td>\n",
       "      <td>2018</td>\n",
       "      <td>1</td>\n",
       "      <td>0</td>\n",
       "      <td>63</td>\n",
       "      <td>75</td>\n",
       "      <td>62</td>\n",
       "      <td>79</td>\n",
       "      <td>69</td>\n",
       "      <td>72</td>\n",
       "      <td>77</td>\n",
       "      <td>73</td>\n",
       "      <td>64</td>\n",
       "    </tr>\n",
       "    <tr>\n",
       "      <th>1</th>\n",
       "      <td>61</td>\n",
       "      <td>60.0</td>\n",
       "      <td>60</td>\n",
       "      <td>75</td>\n",
       "      <td>75</td>\n",
       "      <td>2022</td>\n",
       "      <td>2</td>\n",
       "      <td>0</td>\n",
       "      <td>63</td>\n",
       "      <td>75</td>\n",
       "      <td>62</td>\n",
       "      <td>79</td>\n",
       "      <td>69</td>\n",
       "      <td>72</td>\n",
       "      <td>77</td>\n",
       "      <td>73</td>\n",
       "      <td>64</td>\n",
       "    </tr>\n",
       "    <tr>\n",
       "      <th>2</th>\n",
       "      <td>76</td>\n",
       "      <td>75.0</td>\n",
       "      <td>75</td>\n",
       "      <td>62</td>\n",
       "      <td>69</td>\n",
       "      <td>2020</td>\n",
       "      <td>1</td>\n",
       "      <td>0</td>\n",
       "      <td>63</td>\n",
       "      <td>75</td>\n",
       "      <td>62</td>\n",
       "      <td>79</td>\n",
       "      <td>69</td>\n",
       "      <td>72</td>\n",
       "      <td>77</td>\n",
       "      <td>73</td>\n",
       "      <td>64</td>\n",
       "    </tr>\n",
       "    <tr>\n",
       "      <th>3</th>\n",
       "      <td>73</td>\n",
       "      <td>63.0</td>\n",
       "      <td>63</td>\n",
       "      <td>79</td>\n",
       "      <td>64</td>\n",
       "      <td>2019</td>\n",
       "      <td>1</td>\n",
       "      <td>1</td>\n",
       "      <td>63</td>\n",
       "      <td>75</td>\n",
       "      <td>62</td>\n",
       "      <td>79</td>\n",
       "      <td>69</td>\n",
       "      <td>72</td>\n",
       "      <td>77</td>\n",
       "      <td>73</td>\n",
       "      <td>64</td>\n",
       "    </tr>\n",
       "    <tr>\n",
       "      <th>4</th>\n",
       "      <td>61</td>\n",
       "      <td>78.0</td>\n",
       "      <td>78</td>\n",
       "      <td>69</td>\n",
       "      <td>66</td>\n",
       "      <td>2022</td>\n",
       "      <td>1</td>\n",
       "      <td>1</td>\n",
       "      <td>63</td>\n",
       "      <td>75</td>\n",
       "      <td>62</td>\n",
       "      <td>79</td>\n",
       "      <td>69</td>\n",
       "      <td>72</td>\n",
       "      <td>77</td>\n",
       "      <td>73</td>\n",
       "      <td>64</td>\n",
       "    </tr>\n",
       "    <tr>\n",
       "      <th>5</th>\n",
       "      <td>62</td>\n",
       "      <td>77.0</td>\n",
       "      <td>77</td>\n",
       "      <td>72</td>\n",
       "      <td>73</td>\n",
       "      <td>2019</td>\n",
       "      <td>1</td>\n",
       "      <td>0</td>\n",
       "      <td>63</td>\n",
       "      <td>75</td>\n",
       "      <td>62</td>\n",
       "      <td>79</td>\n",
       "      <td>69</td>\n",
       "      <td>72</td>\n",
       "      <td>77</td>\n",
       "      <td>73</td>\n",
       "      <td>64</td>\n",
       "    </tr>\n",
       "    <tr>\n",
       "      <th>6</th>\n",
       "      <td>80</td>\n",
       "      <td>60.0</td>\n",
       "      <td>60</td>\n",
       "      <td>79</td>\n",
       "      <td>72</td>\n",
       "      <td>2020</td>\n",
       "      <td>1</td>\n",
       "      <td>1</td>\n",
       "      <td>63</td>\n",
       "      <td>75</td>\n",
       "      <td>62</td>\n",
       "      <td>79</td>\n",
       "      <td>69</td>\n",
       "      <td>72</td>\n",
       "      <td>77</td>\n",
       "      <td>73</td>\n",
       "      <td>64</td>\n",
       "    </tr>\n",
       "    <tr>\n",
       "      <th>7</th>\n",
       "      <td>68</td>\n",
       "      <td>60.0</td>\n",
       "      <td>60</td>\n",
       "      <td>77</td>\n",
       "      <td>72</td>\n",
       "      <td>2020</td>\n",
       "      <td>1</td>\n",
       "      <td>1</td>\n",
       "      <td>63</td>\n",
       "      <td>75</td>\n",
       "      <td>62</td>\n",
       "      <td>79</td>\n",
       "      <td>69</td>\n",
       "      <td>72</td>\n",
       "      <td>77</td>\n",
       "      <td>73</td>\n",
       "      <td>64</td>\n",
       "    </tr>\n",
       "    <tr>\n",
       "      <th>8</th>\n",
       "      <td>70</td>\n",
       "      <td>73.0</td>\n",
       "      <td>73</td>\n",
       "      <td>77</td>\n",
       "      <td>66</td>\n",
       "      <td>2022</td>\n",
       "      <td>1</td>\n",
       "      <td>1</td>\n",
       "      <td>63</td>\n",
       "      <td>75</td>\n",
       "      <td>62</td>\n",
       "      <td>79</td>\n",
       "      <td>69</td>\n",
       "      <td>72</td>\n",
       "      <td>77</td>\n",
       "      <td>73</td>\n",
       "      <td>64</td>\n",
       "    </tr>\n",
       "    <tr>\n",
       "      <th>9</th>\n",
       "      <td>63</td>\n",
       "      <td>66.0</td>\n",
       "      <td>66</td>\n",
       "      <td>73</td>\n",
       "      <td>68</td>\n",
       "      <td>2024</td>\n",
       "      <td>1</td>\n",
       "      <td>0</td>\n",
       "      <td>63</td>\n",
       "      <td>75</td>\n",
       "      <td>62</td>\n",
       "      <td>79</td>\n",
       "      <td>69</td>\n",
       "      <td>72</td>\n",
       "      <td>77</td>\n",
       "      <td>73</td>\n",
       "      <td>64</td>\n",
       "    </tr>\n",
       "    <tr>\n",
       "      <th>10</th>\n",
       "      <td>66</td>\n",
       "      <td>71.0</td>\n",
       "      <td>71</td>\n",
       "      <td>75</td>\n",
       "      <td>80</td>\n",
       "      <td>2022</td>\n",
       "      <td>2</td>\n",
       "      <td>0</td>\n",
       "      <td>63</td>\n",
       "      <td>75</td>\n",
       "      <td>62</td>\n",
       "      <td>79</td>\n",
       "      <td>69</td>\n",
       "      <td>72</td>\n",
       "      <td>77</td>\n",
       "      <td>73</td>\n",
       "      <td>64</td>\n",
       "    </tr>\n",
       "    <tr>\n",
       "      <th>11</th>\n",
       "      <td>62</td>\n",
       "      <td>74.0</td>\n",
       "      <td>74</td>\n",
       "      <td>79</td>\n",
       "      <td>64</td>\n",
       "      <td>2024</td>\n",
       "      <td>1</td>\n",
       "      <td>1</td>\n",
       "      <td>63</td>\n",
       "      <td>75</td>\n",
       "      <td>62</td>\n",
       "      <td>79</td>\n",
       "      <td>69</td>\n",
       "      <td>72</td>\n",
       "      <td>77</td>\n",
       "      <td>73</td>\n",
       "      <td>64</td>\n",
       "    </tr>\n",
       "    <tr>\n",
       "      <th>12</th>\n",
       "      <td>79</td>\n",
       "      <td>69.0</td>\n",
       "      <td>69</td>\n",
       "      <td>73</td>\n",
       "      <td>79</td>\n",
       "      <td>2019</td>\n",
       "      <td>2</td>\n",
       "      <td>1</td>\n",
       "      <td>63</td>\n",
       "      <td>75</td>\n",
       "      <td>62</td>\n",
       "      <td>79</td>\n",
       "      <td>69</td>\n",
       "      <td>72</td>\n",
       "      <td>77</td>\n",
       "      <td>73</td>\n",
       "      <td>64</td>\n",
       "    </tr>\n",
       "    <tr>\n",
       "      <th>13</th>\n",
       "      <td>65</td>\n",
       "      <td>61.0</td>\n",
       "      <td>61</td>\n",
       "      <td>64</td>\n",
       "      <td>62</td>\n",
       "      <td>2022</td>\n",
       "      <td>1</td>\n",
       "      <td>1</td>\n",
       "      <td>63</td>\n",
       "      <td>75</td>\n",
       "      <td>62</td>\n",
       "      <td>79</td>\n",
       "      <td>69</td>\n",
       "      <td>72</td>\n",
       "      <td>77</td>\n",
       "      <td>73</td>\n",
       "      <td>64</td>\n",
       "    </tr>\n",
       "  </tbody>\n",
       "</table>\n",
       "</div>"
      ],
      "text/plain": [
       "    math score  reading score   old_reading_score  writing score  \\\n",
       "0           79            66.0                 66             63   \n",
       "1           61            60.0                 60             75   \n",
       "2           76            75.0                 75             62   \n",
       "3           73            63.0                 63             79   \n",
       "4           61            78.0                 78             69   \n",
       "5           62            77.0                 77             72   \n",
       "6           80            60.0                 60             79   \n",
       "7           68            60.0                 60             77   \n",
       "8           70            73.0                 73             77   \n",
       "9           63            66.0                 66             73   \n",
       "10          66            71.0                 71             75   \n",
       "11          62            74.0                 74             79   \n",
       "12          79            69.0                 69             73   \n",
       "13          65            61.0                 61             64   \n",
       "\n",
       "    placement score  club join year  placement offer count   gender  63  75  \\\n",
       "0                72            2018                      1        0  63  75   \n",
       "1                75            2022                      2        0  63  75   \n",
       "2                69            2020                      1        0  63  75   \n",
       "3                64            2019                      1        1  63  75   \n",
       "4                66            2022                      1        1  63  75   \n",
       "5                73            2019                      1        0  63  75   \n",
       "6                72            2020                      1        1  63  75   \n",
       "7                72            2020                      1        1  63  75   \n",
       "8                66            2022                      1        1  63  75   \n",
       "9                68            2024                      1        0  63  75   \n",
       "10               80            2022                      2        0  63  75   \n",
       "11               64            2024                      1        1  63  75   \n",
       "12               79            2019                      2        1  63  75   \n",
       "13               62            2022                      1        1  63  75   \n",
       "\n",
       "    62  79  69  72  77  73  64  \n",
       "0   62  79  69  72  77  73  64  \n",
       "1   62  79  69  72  77  73  64  \n",
       "2   62  79  69  72  77  73  64  \n",
       "3   62  79  69  72  77  73  64  \n",
       "4   62  79  69  72  77  73  64  \n",
       "5   62  79  69  72  77  73  64  \n",
       "6   62  79  69  72  77  73  64  \n",
       "7   62  79  69  72  77  73  64  \n",
       "8   62  79  69  72  77  73  64  \n",
       "9   62  79  69  72  77  73  64  \n",
       "10  62  79  69  72  77  73  64  \n",
       "11  62  79  69  72  77  73  64  \n",
       "12  62  79  69  72  77  73  64  \n",
       "13  62  79  69  72  77  73  64  "
      ]
     },
     "execution_count": 86,
     "metadata": {},
     "output_type": "execute_result"
    }
   ],
   "source": [
    "new_df"
   ]
  },
  {
   "cell_type": "code",
   "execution_count": 87,
   "metadata": {
    "colab": {
     "base_uri": "https://localhost:8080/",
     "height": 265
    },
    "id": "GfO8v3r0Huqe",
    "outputId": "20683982-f569-401b-ff6a-1cfa77c634d1"
   },
   "outputs": [
    {
     "data": {
      "image/png": "[encoded data removed]",
      "text/plain": [
       "<Figure size 640x480 with 1 Axes>"
      ]
     },
     "metadata": {},
     "output_type": "display_data"
    }
   ],
   "source": [
    "plt.boxplot(new_df['reading score '])\n",
    "plt.show()\n"
   ]
  }
 ],
 "metadata": {
  "colab": {
   "provenance": []
  },
  "kernelspec": {
   "display_name": "Python 3 (ipykernel)",
   "language": "python",
   "name": "python3"
  },
  "language_info": {
   "codemirror_mode": {
    "name": "ipython",
    "version": 3
   },
   "file_extension": ".py",
   "mimetype": "text/x-python",
   "name": "python",
   "nbconvert_exporter": "python",
   "pygments_lexer": "ipython3",
   "version": "3.9.13"
  }
 },
 "nbformat": 4,
 "nbformat_minor": 1
}
